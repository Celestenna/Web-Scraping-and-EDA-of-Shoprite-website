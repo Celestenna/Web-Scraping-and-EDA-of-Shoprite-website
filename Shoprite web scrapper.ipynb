{
 "cells": [
  {
   "cell_type": "markdown",
   "id": "e44c0024",
   "metadata": {},
   "source": [
    "## WEb Scraping"
   ]
  },
  {
   "cell_type": "code",
   "execution_count": 1,
   "id": "ee699e47",
   "metadata": {},
   "outputs": [],
   "source": [
    "# import library\n",
    "import requests"
   ]
  },
  {
   "cell_type": "code",
   "execution_count": 3,
   "id": "d033256f",
   "metadata": {},
   "outputs": [],
   "source": [
    "# make a get request\n",
    "r = requests.get('https://httpbin.org/basic-auth/user/pass', auth=('user', 'pass'))"
   ]
  },
  {
   "cell_type": "code",
   "execution_count": 4,
   "id": "37a377a5",
   "metadata": {},
   "outputs": [
    {
     "data": {
      "text/plain": [
       "200"
      ]
     },
     "execution_count": 4,
     "metadata": {},
     "output_type": "execute_result"
    }
   ],
   "source": [
    "# to verify the status of the api you used\n",
    "r.status_code"
   ]
  },
  {
   "cell_type": "code",
   "execution_count": 5,
   "id": "ac44a3e6",
   "metadata": {},
   "outputs": [],
   "source": [
    "g = requests.get('https://www.google.com/')"
   ]
  },
  {
   "cell_type": "code",
   "execution_count": 6,
   "id": "aaff0e92",
   "metadata": {},
   "outputs": [
    {
     "data": {
      "text/plain": [
       "200"
      ]
     },
     "execution_count": 6,
     "metadata": {},
     "output_type": "execute_result"
    }
   ],
   "source": [
    "g.status_code"
   ]
  },
  {
   "cell_type": "markdown",
   "id": "b3f83d49",
   "metadata": {},
   "source": [
    "## Make a request to shoprite"
   ]
  },
  {
   "cell_type": "code",
   "execution_count": 8,
   "id": "bb7aba4d",
   "metadata": {},
   "outputs": [],
   "source": [
    "res = requests.get('https://shoprite.ng/shop/')"
   ]
  },
  {
   "cell_type": "code",
   "execution_count": 9,
   "id": "d2553b85",
   "metadata": {},
   "outputs": [
    {
     "data": {
      "text/plain": [
       "200"
      ]
     },
     "execution_count": 9,
     "metadata": {},
     "output_type": "execute_result"
    }
   ],
   "source": [
    "res.status_code"
   ]
  },
  {
   "cell_type": "markdown",
   "id": "b5aceba3",
   "metadata": {},
   "source": [
    "### Make a soup"
   ]
  },
  {
   "cell_type": "code",
   "execution_count": 10,
   "id": "21531aa5",
   "metadata": {},
   "outputs": [],
   "source": [
    "from bs4 import BeautifulSoup"
   ]
  },
  {
   "cell_type": "code",
   "execution_count": 11,
   "id": "1f180288",
   "metadata": {},
   "outputs": [],
   "source": [
    "def get_content(tag):\n",
    "    items = soup.find_all(tag)\n",
    "    values = []\n",
    "\n",
    "    for item in items:\n",
    "        text = item.get_text()\n",
    "        values.append(text)\n",
    "        \n",
    "    return values"
   ]
  },
  {
   "cell_type": "code",
   "execution_count": 12,
   "id": "a2b157d4",
   "metadata": {},
   "outputs": [],
   "source": [
    "# create an object of beautiful soup\n",
    "\n",
    "soup = BeautifulSoup(res.content, 'html.parser')"
   ]
  },
  {
   "cell_type": "code",
   "execution_count": 13,
   "id": "9938a7cd",
   "metadata": {},
   "outputs": [
    {
     "data": {
      "text/plain": [
       "<h2 class=\"woocommerce-loop-product__title\"></h2>"
      ]
     },
     "execution_count": 13,
     "metadata": {},
     "output_type": "execute_result"
    }
   ],
   "source": [
    "soup.find('h2')"
   ]
  },
  {
   "cell_type": "code",
   "execution_count": 14,
   "id": "6064eebb",
   "metadata": {},
   "outputs": [
    {
     "data": {
      "text/plain": [
       "[<h2 class=\"woocommerce-loop-product__title\"></h2>,\n",
       " <h2 class=\"woocommerce-loop-product__title\">18 Glenfiddich 750Ml</h2>,\n",
       " <h2 class=\"woocommerce-loop-product__title\">2sure Bath Soap Herbal Plus 120g</h2>,\n",
       " <h2 class=\"woocommerce-loop-product__title\">2X Snickers 80G</h2>,\n",
       " <h2 class=\"woocommerce-loop-product__title\">33 Export 500Ml Can</h2>,\n",
       " <h2 class=\"woocommerce-loop-product__title\">5 Alive 780Ml, Berry Blast</h2>,\n",
       " <h2 class=\"woocommerce-loop-product__title\">5 Alive 780Ml, Citrus Burst</h2>,\n",
       " <h2 class=\"woocommerce-loop-product__title\">7 Up 500Ml NRB, Original</h2>,\n",
       " <h2 class=\"woocommerce-loop-product__title\">7Up 50Cl</h2>,\n",
       " <h2 class=\"woocommerce-loop-product__title\">Active Go Milo 20G</h2>,\n",
       " <h2 class=\"woocommerce-loop-product__title\">Active Go Milo 400G Sachet</h2>,\n",
       " <h2 class=\"woocommerce-loop-product__title\">Air Freshener Gel Airwick 45G, Rose</h2>,\n",
       " <h2 class=\"woocommerce-loop-product__title\">Air freshener Ref Airwick 250Ml, Aqua</h2>,\n",
       " <h2 class=\"woocommerce-loop-product__title\">Air freshener Ref Airwick 250Ml, Lav</h2>,\n",
       " <h2 class=\"woocommerce-loop-product__title\">Air Freshner Gel Airwick 45G, Lav</h2>,\n",
       " <h2 class=\"woocommerce-loop-product__title\">Airfryer Model Baf-3501 Binatone 3.5L</h2>,\n",
       " <h2 class=\"woocommerce-loop-product__title\">Airwick 2X250Ml</h2>,\n",
       " <h2 class=\"woocommerce-loop-product__title\">Airwick 2X250Ml, Citrus </h2>,\n",
       " <h2 class=\"woocommerce-loop-product__title\">Airwick Fmat 250Ml, Citrus </h2>,\n",
       " <h2 class=\"woocommerce-loop-product__title\">Amazing Day Golden Penny 600G</h2>,\n",
       " <h2 class=\"woocommerce-loop-product__title\">American Aviation 750Ml</h2>,\n",
       " <h2 class=\"woocommerce-loop-product__title\">American Honey 750Ml</h2>,\n",
       " <h2 class=\"woocommerce-loop-product__title\">Ankara &amp; Colour Ariel 2Kg </h2>,\n",
       " <h2 class=\"woocommerce-loop-product__title\">Ankara Ariel 400G</h2>,\n",
       " <h2 class=\"woocommerce-loop-product__title\">Antiseptic Liquid Savlon 250Ml Pack</h2>,\n",
       " <h2 class=\"woocommerce-loop-product__title\">Antiseptic Liquid Savlon 500Ml Pack</h2>,\n",
       " <h2 class=\"woocommerce-loop-product__title\">Antiseptic Liquid Savlon 500Ml Pack</h2>,\n",
       " <h2 class=\"woocommerce-loop-product__title\">Antiseptic Liquid Savlon 750Ml</h2>,\n",
       " <h2 class=\"woocommerce-loop-product__title\">Aperitif Herb Bitters Orijin 330Ml Can</h2>,\n",
       " <h2 class=\"woocommerce-loop-product__title\">Aperitif Herb Bitters Orijin 750Ml</h2>,\n",
       " <h2 class=\"woocommerce-loop-product__title\">Aperitifs Bitters Confam 750Ml</h2>,\n",
       " <h2 class=\"woocommerce-loop-product__title\">Apperito Bitters  375Ml</h2>,\n",
       " <h2 class=\"woocommerce-loop-product__title\">Apple Caprisonne 100Ml Pouch</h2>,\n",
       " <h2 class=\"woocommerce-loop-product__title\">Apple Caprisonne 200Ml Pouch</h2>,\n",
       " <h2 class=\"woocommerce-loop-product__title\">Apple Fuji 1.5Kg</h2>,\n",
       " <h2 class=\"woocommerce-loop-product__title\">Apples X 6</h2>,\n",
       " <h2 class=\"woocommerce-loop-product__title\">Ariel  Ankara &amp; Colour  800G</h2>,\n",
       " <h2 class=\"woocommerce-loop-product__title\">Ariel Auto 1.8Kg </h2>,\n",
       " <h2 class=\"woocommerce-loop-product__title\">Avocado Per Kg</h2>,\n",
       " <h2 class=\"woocommerce-loop-product__title\">Baileys Delight 750Ml</h2>]"
      ]
     },
     "execution_count": 14,
     "metadata": {},
     "output_type": "execute_result"
    }
   ],
   "source": [
    "soup.find_all('h2')"
   ]
  },
  {
   "cell_type": "code",
   "execution_count": 15,
   "id": "b5035d04",
   "metadata": {},
   "outputs": [
    {
     "name": "stdout",
     "output_type": "stream",
     "text": [
      "['', '18 Glenfiddich 750Ml', '2sure Bath Soap Herbal Plus 120g', '2X Snickers 80G', '33 Export 500Ml Can', '5 Alive 780Ml, Berry Blast', '5 Alive 780Ml, Citrus Burst', '7 Up 500Ml NRB, Original', '7Up 50Cl', 'Active Go Milo 20G', 'Active Go Milo 400G Sachet', 'Air Freshener Gel Airwick 45G, Rose', 'Air freshener Ref Airwick 250Ml, Aqua', 'Air freshener Ref Airwick 250Ml, Lav', 'Air Freshner Gel Airwick 45G, Lav', 'Airfryer Model Baf-3501 Binatone 3.5L', 'Airwick 2X250Ml', 'Airwick 2X250Ml, Citrus\\xa0', 'Airwick Fmat 250Ml, Citrus\\xa0', 'Amazing Day Golden Penny 600G', 'American Aviation 750Ml', 'American Honey 750Ml', 'Ankara & Colour Ariel 2Kg\\xa0', 'Ankara Ariel 400G', 'Antiseptic Liquid Savlon 250Ml Pack', 'Antiseptic Liquid Savlon 500Ml Pack', 'Antiseptic Liquid Savlon 500Ml Pack', 'Antiseptic Liquid Savlon 750Ml', 'Aperitif Herb Bitters Orijin 330Ml Can', 'Aperitif Herb Bitters Orijin 750Ml', 'Aperitifs Bitters Confam 750Ml', 'Apperito Bitters  375Ml', 'Apple Caprisonne 100Ml Pouch', 'Apple Caprisonne 200Ml Pouch', 'Apple Fuji 1.5Kg', 'Apples X 6', 'Ariel  Ankara & Colour  800G', 'Ariel Auto 1.8Kg\\xa0', 'Avocado Per Kg', 'Baileys Delight 750Ml']\n"
     ]
    }
   ],
   "source": [
    "## to have access to the names, loop\n",
    "\n",
    "all_product_name = soup.find_all('h2')\n",
    "\n",
    "names = []\n",
    "\n",
    "for products in all_product_name:\n",
    "    prod = products.get_text()\n",
    "    \n",
    "    # append each name to list\n",
    "    names.append(prod)\n",
    "    \n",
    "# prnt out the names\n",
    "print(names)"
   ]
  },
  {
   "cell_type": "code",
   "execution_count": 16,
   "id": "281ddb51",
   "metadata": {},
   "outputs": [
    {
     "name": "stdout",
     "output_type": "stream",
     "text": [
      "['₦1,799.99', '₦54,999.99', '₦349.99', '₦899.99', '₦349.99', '₦499.99', '₦499.99', '₦199.99', '₦199.99', '₦79.99', '₦1,549.99', '₦399.99', '₦4,199.99', '₦4,199.99', '₦399.99', '₦77,799.99', '₦6,699.99', '₦6,699.99', '₦3,199.99', '₦1,199.99', '₦16,999.99', '₦750.00', '₦3,499.99', '₦1,009.99', '₦1,099.99', '₦1,899.99', '₦1,899.99', '₦2,699.99', '₦399.99', '₦1,799.99', '₦1,699.99', '₦1,499.99', '₦89.99', '₦109.99', '₦2,749.99', '₦2,749.99', '₦1,699.99', '₦4,199.99', '₦1,899.99', '₦3,599.99']\n"
     ]
    }
   ],
   "source": [
    "all_product_price = soup.find_all('bdi')\n",
    "\n",
    "prices = []\n",
    "\n",
    "for price in all_product_price:\n",
    "    price = price.get_text()\n",
    "    \n",
    "    # append each name to list\n",
    "    prices.append(price)\n",
    "    \n",
    "# prnt out the names\n",
    "print(prices)"
   ]
  },
  {
   "cell_type": "markdown",
   "id": "458f19ea",
   "metadata": {},
   "source": [
    "## Refractoring Code"
   ]
  },
  {
   "cell_type": "code",
   "execution_count": 17,
   "id": "2d946a71",
   "metadata": {},
   "outputs": [
    {
     "data": {
      "text/plain": [
       "['₦1,799.99',\n",
       " '₦54,999.99',\n",
       " '₦349.99',\n",
       " '₦899.99',\n",
       " '₦349.99',\n",
       " '₦499.99',\n",
       " '₦499.99',\n",
       " '₦199.99',\n",
       " '₦199.99',\n",
       " '₦79.99',\n",
       " '₦1,549.99',\n",
       " '₦399.99',\n",
       " '₦4,199.99',\n",
       " '₦4,199.99',\n",
       " '₦399.99',\n",
       " '₦77,799.99',\n",
       " '₦6,699.99',\n",
       " '₦6,699.99',\n",
       " '₦3,199.99',\n",
       " '₦1,199.99',\n",
       " '₦16,999.99',\n",
       " '₦750.00',\n",
       " '₦3,499.99',\n",
       " '₦1,009.99',\n",
       " '₦1,099.99',\n",
       " '₦1,899.99',\n",
       " '₦1,899.99',\n",
       " '₦2,699.99',\n",
       " '₦399.99',\n",
       " '₦1,799.99',\n",
       " '₦1,699.99',\n",
       " '₦1,499.99',\n",
       " '₦89.99',\n",
       " '₦109.99',\n",
       " '₦2,749.99',\n",
       " '₦2,749.99',\n",
       " '₦1,699.99',\n",
       " '₦4,199.99',\n",
       " '₦1,899.99',\n",
       " '₦3,599.99']"
      ]
     },
     "execution_count": 17,
     "metadata": {},
     "output_type": "execute_result"
    }
   ],
   "source": [
    "get_content('bdi')"
   ]
  },
  {
   "cell_type": "code",
   "execution_count": 18,
   "id": "9b16a3e6",
   "metadata": {},
   "outputs": [
    {
     "name": "stdout",
     "output_type": "stream",
     "text": [
      "You have successfully make  request to https://shoprite.ng/shop/.\n",
      "Status Code: 200\n"
     ]
    }
   ],
   "source": [
    "# make request\n",
    "\n",
    "try:\n",
    "    req =  requests.get('https://shoprite.ng/shop/')\n",
    "    status = req.status_code\n",
    "    \n",
    "    if status ==200:\n",
    "        print(f\"You have successfully make  request to {res.url}.\")\n",
    "        \n",
    "        content = req.content()\n",
    "        \n",
    "    else:\n",
    "        print(f\"Status Code: {status}\")\n",
    "except:\n",
    "    print(f'Status Code: {status}')\n",
    "finally:\n",
    "    content= res.content"
   ]
  },
  {
   "cell_type": "code",
   "execution_count": 19,
   "id": "1557a780",
   "metadata": {},
   "outputs": [],
   "source": [
    "# define an empty dictionary\n",
    "products = {}"
   ]
  },
  {
   "cell_type": "code",
   "execution_count": 20,
   "id": "7397b20d",
   "metadata": {},
   "outputs": [],
   "source": [
    "# get all thebproduct name and price\n",
    "\n",
    "names = get_content('h2')\n",
    "\n",
    "prices = get_content('bdi')"
   ]
  },
  {
   "cell_type": "code",
   "execution_count": 21,
   "id": "f9a53699",
   "metadata": {},
   "outputs": [],
   "source": [
    "products.update({'names':names,\"price\":price})"
   ]
  },
  {
   "cell_type": "code",
   "execution_count": 22,
   "id": "ac98d1b5",
   "metadata": {},
   "outputs": [],
   "source": [
    "import pandas as pd"
   ]
  },
  {
   "cell_type": "code",
   "execution_count": 23,
   "id": "e7e33522",
   "metadata": {},
   "outputs": [],
   "source": [
    "shop_df= pd.DataFrame(products)"
   ]
  },
  {
   "cell_type": "code",
   "execution_count": 24,
   "id": "2a21da10",
   "metadata": {},
   "outputs": [
    {
     "data": {
      "text/html": [
       "<div>\n",
       "<style scoped>\n",
       "    .dataframe tbody tr th:only-of-type {\n",
       "        vertical-align: middle;\n",
       "    }\n",
       "\n",
       "    .dataframe tbody tr th {\n",
       "        vertical-align: top;\n",
       "    }\n",
       "\n",
       "    .dataframe thead th {\n",
       "        text-align: right;\n",
       "    }\n",
       "</style>\n",
       "<table border=\"1\" class=\"dataframe\">\n",
       "  <thead>\n",
       "    <tr style=\"text-align: right;\">\n",
       "      <th></th>\n",
       "      <th>names</th>\n",
       "      <th>price</th>\n",
       "    </tr>\n",
       "  </thead>\n",
       "  <tbody>\n",
       "    <tr>\n",
       "      <th>0</th>\n",
       "      <td></td>\n",
       "      <td>₦3,599.99</td>\n",
       "    </tr>\n",
       "    <tr>\n",
       "      <th>1</th>\n",
       "      <td>18 Glenfiddich 750Ml</td>\n",
       "      <td>₦3,599.99</td>\n",
       "    </tr>\n",
       "    <tr>\n",
       "      <th>2</th>\n",
       "      <td>2sure Bath Soap Herbal Plus 120g</td>\n",
       "      <td>₦3,599.99</td>\n",
       "    </tr>\n",
       "    <tr>\n",
       "      <th>3</th>\n",
       "      <td>2X Snickers 80G</td>\n",
       "      <td>₦3,599.99</td>\n",
       "    </tr>\n",
       "    <tr>\n",
       "      <th>4</th>\n",
       "      <td>33 Export 500Ml Can</td>\n",
       "      <td>₦3,599.99</td>\n",
       "    </tr>\n",
       "    <tr>\n",
       "      <th>5</th>\n",
       "      <td>5 Alive 780Ml, Berry Blast</td>\n",
       "      <td>₦3,599.99</td>\n",
       "    </tr>\n",
       "    <tr>\n",
       "      <th>6</th>\n",
       "      <td>5 Alive 780Ml, Citrus Burst</td>\n",
       "      <td>₦3,599.99</td>\n",
       "    </tr>\n",
       "    <tr>\n",
       "      <th>7</th>\n",
       "      <td>7 Up 500Ml NRB, Original</td>\n",
       "      <td>₦3,599.99</td>\n",
       "    </tr>\n",
       "    <tr>\n",
       "      <th>8</th>\n",
       "      <td>7Up 50Cl</td>\n",
       "      <td>₦3,599.99</td>\n",
       "    </tr>\n",
       "    <tr>\n",
       "      <th>9</th>\n",
       "      <td>Active Go Milo 20G</td>\n",
       "      <td>₦3,599.99</td>\n",
       "    </tr>\n",
       "    <tr>\n",
       "      <th>10</th>\n",
       "      <td>Active Go Milo 400G Sachet</td>\n",
       "      <td>₦3,599.99</td>\n",
       "    </tr>\n",
       "    <tr>\n",
       "      <th>11</th>\n",
       "      <td>Air Freshener Gel Airwick 45G, Rose</td>\n",
       "      <td>₦3,599.99</td>\n",
       "    </tr>\n",
       "    <tr>\n",
       "      <th>12</th>\n",
       "      <td>Air freshener Ref Airwick 250Ml, Aqua</td>\n",
       "      <td>₦3,599.99</td>\n",
       "    </tr>\n",
       "    <tr>\n",
       "      <th>13</th>\n",
       "      <td>Air freshener Ref Airwick 250Ml, Lav</td>\n",
       "      <td>₦3,599.99</td>\n",
       "    </tr>\n",
       "    <tr>\n",
       "      <th>14</th>\n",
       "      <td>Air Freshner Gel Airwick 45G, Lav</td>\n",
       "      <td>₦3,599.99</td>\n",
       "    </tr>\n",
       "    <tr>\n",
       "      <th>15</th>\n",
       "      <td>Airfryer Model Baf-3501 Binatone 3.5L</td>\n",
       "      <td>₦3,599.99</td>\n",
       "    </tr>\n",
       "    <tr>\n",
       "      <th>16</th>\n",
       "      <td>Airwick 2X250Ml</td>\n",
       "      <td>₦3,599.99</td>\n",
       "    </tr>\n",
       "    <tr>\n",
       "      <th>17</th>\n",
       "      <td>Airwick 2X250Ml, Citrus</td>\n",
       "      <td>₦3,599.99</td>\n",
       "    </tr>\n",
       "    <tr>\n",
       "      <th>18</th>\n",
       "      <td>Airwick Fmat 250Ml, Citrus</td>\n",
       "      <td>₦3,599.99</td>\n",
       "    </tr>\n",
       "    <tr>\n",
       "      <th>19</th>\n",
       "      <td>Amazing Day Golden Penny 600G</td>\n",
       "      <td>₦3,599.99</td>\n",
       "    </tr>\n",
       "    <tr>\n",
       "      <th>20</th>\n",
       "      <td>American Aviation 750Ml</td>\n",
       "      <td>₦3,599.99</td>\n",
       "    </tr>\n",
       "    <tr>\n",
       "      <th>21</th>\n",
       "      <td>American Honey 750Ml</td>\n",
       "      <td>₦3,599.99</td>\n",
       "    </tr>\n",
       "    <tr>\n",
       "      <th>22</th>\n",
       "      <td>Ankara &amp; Colour Ariel 2Kg</td>\n",
       "      <td>₦3,599.99</td>\n",
       "    </tr>\n",
       "    <tr>\n",
       "      <th>23</th>\n",
       "      <td>Ankara Ariel 400G</td>\n",
       "      <td>₦3,599.99</td>\n",
       "    </tr>\n",
       "    <tr>\n",
       "      <th>24</th>\n",
       "      <td>Antiseptic Liquid Savlon 250Ml Pack</td>\n",
       "      <td>₦3,599.99</td>\n",
       "    </tr>\n",
       "    <tr>\n",
       "      <th>25</th>\n",
       "      <td>Antiseptic Liquid Savlon 500Ml Pack</td>\n",
       "      <td>₦3,599.99</td>\n",
       "    </tr>\n",
       "    <tr>\n",
       "      <th>26</th>\n",
       "      <td>Antiseptic Liquid Savlon 500Ml Pack</td>\n",
       "      <td>₦3,599.99</td>\n",
       "    </tr>\n",
       "    <tr>\n",
       "      <th>27</th>\n",
       "      <td>Antiseptic Liquid Savlon 750Ml</td>\n",
       "      <td>₦3,599.99</td>\n",
       "    </tr>\n",
       "    <tr>\n",
       "      <th>28</th>\n",
       "      <td>Aperitif Herb Bitters Orijin 330Ml Can</td>\n",
       "      <td>₦3,599.99</td>\n",
       "    </tr>\n",
       "    <tr>\n",
       "      <th>29</th>\n",
       "      <td>Aperitif Herb Bitters Orijin 750Ml</td>\n",
       "      <td>₦3,599.99</td>\n",
       "    </tr>\n",
       "    <tr>\n",
       "      <th>30</th>\n",
       "      <td>Aperitifs Bitters Confam 750Ml</td>\n",
       "      <td>₦3,599.99</td>\n",
       "    </tr>\n",
       "    <tr>\n",
       "      <th>31</th>\n",
       "      <td>Apperito Bitters  375Ml</td>\n",
       "      <td>₦3,599.99</td>\n",
       "    </tr>\n",
       "    <tr>\n",
       "      <th>32</th>\n",
       "      <td>Apple Caprisonne 100Ml Pouch</td>\n",
       "      <td>₦3,599.99</td>\n",
       "    </tr>\n",
       "    <tr>\n",
       "      <th>33</th>\n",
       "      <td>Apple Caprisonne 200Ml Pouch</td>\n",
       "      <td>₦3,599.99</td>\n",
       "    </tr>\n",
       "    <tr>\n",
       "      <th>34</th>\n",
       "      <td>Apple Fuji 1.5Kg</td>\n",
       "      <td>₦3,599.99</td>\n",
       "    </tr>\n",
       "    <tr>\n",
       "      <th>35</th>\n",
       "      <td>Apples X 6</td>\n",
       "      <td>₦3,599.99</td>\n",
       "    </tr>\n",
       "    <tr>\n",
       "      <th>36</th>\n",
       "      <td>Ariel  Ankara &amp; Colour  800G</td>\n",
       "      <td>₦3,599.99</td>\n",
       "    </tr>\n",
       "    <tr>\n",
       "      <th>37</th>\n",
       "      <td>Ariel Auto 1.8Kg</td>\n",
       "      <td>₦3,599.99</td>\n",
       "    </tr>\n",
       "    <tr>\n",
       "      <th>38</th>\n",
       "      <td>Avocado Per Kg</td>\n",
       "      <td>₦3,599.99</td>\n",
       "    </tr>\n",
       "    <tr>\n",
       "      <th>39</th>\n",
       "      <td>Baileys Delight 750Ml</td>\n",
       "      <td>₦3,599.99</td>\n",
       "    </tr>\n",
       "  </tbody>\n",
       "</table>\n",
       "</div>"
      ],
      "text/plain": [
       "                                     names      price\n",
       "0                                           ₦3,599.99\n",
       "1                     18 Glenfiddich 750Ml  ₦3,599.99\n",
       "2         2sure Bath Soap Herbal Plus 120g  ₦3,599.99\n",
       "3                          2X Snickers 80G  ₦3,599.99\n",
       "4                      33 Export 500Ml Can  ₦3,599.99\n",
       "5               5 Alive 780Ml, Berry Blast  ₦3,599.99\n",
       "6              5 Alive 780Ml, Citrus Burst  ₦3,599.99\n",
       "7                 7 Up 500Ml NRB, Original  ₦3,599.99\n",
       "8                                 7Up 50Cl  ₦3,599.99\n",
       "9                       Active Go Milo 20G  ₦3,599.99\n",
       "10              Active Go Milo 400G Sachet  ₦3,599.99\n",
       "11     Air Freshener Gel Airwick 45G, Rose  ₦3,599.99\n",
       "12   Air freshener Ref Airwick 250Ml, Aqua  ₦3,599.99\n",
       "13    Air freshener Ref Airwick 250Ml, Lav  ₦3,599.99\n",
       "14       Air Freshner Gel Airwick 45G, Lav  ₦3,599.99\n",
       "15   Airfryer Model Baf-3501 Binatone 3.5L  ₦3,599.99\n",
       "16                         Airwick 2X250Ml  ₦3,599.99\n",
       "17                Airwick 2X250Ml, Citrus   ₦3,599.99\n",
       "18             Airwick Fmat 250Ml, Citrus   ₦3,599.99\n",
       "19           Amazing Day Golden Penny 600G  ₦3,599.99\n",
       "20                 American Aviation 750Ml  ₦3,599.99\n",
       "21                    American Honey 750Ml  ₦3,599.99\n",
       "22              Ankara & Colour Ariel 2Kg   ₦3,599.99\n",
       "23                       Ankara Ariel 400G  ₦3,599.99\n",
       "24     Antiseptic Liquid Savlon 250Ml Pack  ₦3,599.99\n",
       "25     Antiseptic Liquid Savlon 500Ml Pack  ₦3,599.99\n",
       "26     Antiseptic Liquid Savlon 500Ml Pack  ₦3,599.99\n",
       "27          Antiseptic Liquid Savlon 750Ml  ₦3,599.99\n",
       "28  Aperitif Herb Bitters Orijin 330Ml Can  ₦3,599.99\n",
       "29      Aperitif Herb Bitters Orijin 750Ml  ₦3,599.99\n",
       "30          Aperitifs Bitters Confam 750Ml  ₦3,599.99\n",
       "31                 Apperito Bitters  375Ml  ₦3,599.99\n",
       "32            Apple Caprisonne 100Ml Pouch  ₦3,599.99\n",
       "33            Apple Caprisonne 200Ml Pouch  ₦3,599.99\n",
       "34                        Apple Fuji 1.5Kg  ₦3,599.99\n",
       "35                              Apples X 6  ₦3,599.99\n",
       "36            Ariel  Ankara & Colour  800G  ₦3,599.99\n",
       "37                       Ariel Auto 1.8Kg   ₦3,599.99\n",
       "38                          Avocado Per Kg  ₦3,599.99\n",
       "39                   Baileys Delight 750Ml  ₦3,599.99"
      ]
     },
     "execution_count": 24,
     "metadata": {},
     "output_type": "execute_result"
    }
   ],
   "source": [
    "shop_df"
   ]
  },
  {
   "cell_type": "markdown",
   "id": "c68bd5bf",
   "metadata": {},
   "source": [
    "## code"
   ]
  },
  {
   "cell_type": "code",
   "execution_count": 25,
   "id": "2c613b8f",
   "metadata": {},
   "outputs": [],
   "source": [
    "all_products = {\n",
    "    \"names\": [],\n",
    "    \"prices\": [],\n",
    "    \"sku\":[],\n",
    "    \"categories\":[],\n",
    "    \"tag\":[]\n",
    "}"
   ]
  },
  {
   "cell_type": "code",
   "execution_count": 26,
   "id": "abae4080",
   "metadata": {},
   "outputs": [],
   "source": [
    "def get_content(tag):\n",
    "    items = soup.find_all(tag)\n",
    "    values = []\n",
    "\n",
    "    for item in items:\n",
    "        if item.get_text() != None:\n",
    "            text = item.get_text()\n",
    "            values.append(text)\n",
    "        else:\n",
    "            text=\"Null\"\n",
    "            values.append(text)\n",
    "       \n",
    "        \n",
    "    return values"
   ]
  },
  {
   "cell_type": "markdown",
   "id": "def355a6",
   "metadata": {},
   "source": [
    "## more details"
   ]
  },
  {
   "cell_type": "code",
   "execution_count": 27,
   "id": "30acd859",
   "metadata": {},
   "outputs": [],
   "source": [
    "# get other details of an HTML tag\n",
    "def get_details(name):\n",
    "    single_prod_url = f\"https://shoprite.ng/product/{name}\".replace(' ','-')\n",
    "    r = requests.get(single_prod_url)\n",
    "        \n",
    "    soup = BeautifulSoup(r.content, 'html.parser')\n",
    "    \n",
    "    if soup.find('span', class_=\"sku\") != None:\n",
    "        sku = soup.find('span', class_=\"sku\").get_text()\n",
    "    else:\n",
    "        sku = 'Null'\n",
    "\n",
    "    if soup.find('span', class_=\"posted_in\") != None:\n",
    "        category = soup.find('span', class_=\"posted_in\").get_text()\n",
    "    else:\n",
    "        category = 'Null'\n",
    "\n",
    "    if soup.find('span', class_=\"tagged_as\") != None:\n",
    "        tag = soup.find('span', class_=\"tagged_as\").get_text()\n",
    "    else:\n",
    "        tag = 'Null'\n",
    "    \n",
    "    return (sku, category, tag)"
   ]
  },
  {
   "cell_type": "code",
   "execution_count": 30,
   "id": "b73d4018",
   "metadata": {},
   "outputs": [],
   "source": [
    "# make a requests to 5 pages\n",
    "for page in range(1,6):\n",
    "    url = f\"https://shoprite.ng/products/?product-page={page}\"\n",
    "    res = requests.get(url)\n",
    "    \n",
    "    # create an object of BeautifulSoup\n",
    "    soup = BeautifulSoup(res.content, 'html.parser')\n",
    "    \n",
    "    # get product name\n",
    "    names = get_content('h2')\n",
    "    \n",
    "    #get all the product price\n",
    "    prices = get_content('bdi')\n",
    "    \n",
    "    \n",
    "    #get all the product sku\n",
    "    skus = []\n",
    "    for name in names:\n",
    "        sku = get_details(name)[0]\n",
    "        skus.append(sku)\n",
    "    \n",
    "    \n",
    "    #get all the product categories\n",
    "    categories = []\n",
    "    for name in names:\n",
    "        category = get_details(name)[1]\n",
    "        categories.append(category)\n",
    "    \n",
    "    \n",
    "    #get all the product tags\n",
    "    tags = []\n",
    "    for name in names:\n",
    "        tag = get_details(name)[2]\n",
    "        tags.append(tag)\n",
    "              \n",
    "            \n",
    "    # Extends the dictionary\n",
    "    all_products['names'].extend(names[1:])\n",
    "    all_products['prices'].extend(prices)\n",
    "    all_products['sku'].extend(skus[1:])\n",
    "    all_products['categories'].extend(categories[1:])\n",
    "    all_products['tag'].extend(tags[1:])"
   ]
  },
  {
   "cell_type": "code",
   "execution_count": 31,
   "id": "0ac2ef18",
   "metadata": {},
   "outputs": [
    {
     "data": {
      "text/html": [
       "<div>\n",
       "<style scoped>\n",
       "    .dataframe tbody tr th:only-of-type {\n",
       "        vertical-align: middle;\n",
       "    }\n",
       "\n",
       "    .dataframe tbody tr th {\n",
       "        vertical-align: top;\n",
       "    }\n",
       "\n",
       "    .dataframe thead th {\n",
       "        text-align: right;\n",
       "    }\n",
       "</style>\n",
       "<table border=\"1\" class=\"dataframe\">\n",
       "  <thead>\n",
       "    <tr style=\"text-align: right;\">\n",
       "      <th></th>\n",
       "      <th>names</th>\n",
       "      <th>prices</th>\n",
       "      <th>sku</th>\n",
       "      <th>categories</th>\n",
       "      <th>tag</th>\n",
       "    </tr>\n",
       "  </thead>\n",
       "  <tbody>\n",
       "    <tr>\n",
       "      <th>0</th>\n",
       "      <td>Chewy Caramel Alpenliebe 6.5G</td>\n",
       "      <td>₦34.99</td>\n",
       "      <td>Candy Milk Chewy Caramel Alpenliebe 6.5G</td>\n",
       "      <td>Category: Confectionery and Snacks</td>\n",
       "      <td>Tag: Candy</td>\n",
       "    </tr>\n",
       "    <tr>\n",
       "      <th>1</th>\n",
       "      <td>Milk Chewy Caramel Alpenliebe 6.5G</td>\n",
       "      <td>₦34.99</td>\n",
       "      <td>Milk Chewy Caramel Alpenliebe 6.5G</td>\n",
       "      <td>Category: Candy &amp; bubble Gum</td>\n",
       "      <td>Tag: Alpenliebe</td>\n",
       "    </tr>\n",
       "    <tr>\n",
       "      <th>2</th>\n",
       "      <td>Seasoning Powder Jollof Maggi 8G</td>\n",
       "      <td>₦52.99</td>\n",
       "      <td>Seasoning Powder Jollof Maggi 8G</td>\n",
       "      <td>Category: Condiments, Oils &amp; Spices</td>\n",
       "      <td>Tag: Seasoning</td>\n",
       "    </tr>\n",
       "    <tr>\n",
       "      <th>3</th>\n",
       "      <td>Seasoning Powder Chicken Maggi 10G</td>\n",
       "      <td>₦52.99</td>\n",
       "      <td>Seasoning Powder Chicken Maggi 10G</td>\n",
       "      <td>Category: Condiments, Oils &amp; Spices</td>\n",
       "      <td>Tag: Seasoning</td>\n",
       "    </tr>\n",
       "    <tr>\n",
       "      <th>4</th>\n",
       "      <td>Chocolate Slab Milk Dune 5G</td>\n",
       "      <td>₦54.99</td>\n",
       "      <td>Chocolate Slab Milk Dune 5G</td>\n",
       "      <td>Category: Chocolate</td>\n",
       "      <td>Tag: Chocolate</td>\n",
       "    </tr>\n",
       "    <tr>\n",
       "      <th>...</th>\n",
       "      <td>...</td>\n",
       "      <td>...</td>\n",
       "      <td>...</td>\n",
       "      <td>...</td>\n",
       "      <td>...</td>\n",
       "    </tr>\n",
       "    <tr>\n",
       "      <th>135</th>\n",
       "      <td>Coca Cola 350Ml Nrb, Reg</td>\n",
       "      <td>₦149.99</td>\n",
       "      <td>Null</td>\n",
       "      <td>Category: Carbonated Juices</td>\n",
       "      <td>Tag: Soft Drink</td>\n",
       "    </tr>\n",
       "    <tr>\n",
       "      <th>136</th>\n",
       "      <td>Oats Quaker 40G Sachet</td>\n",
       "      <td>₦149.99</td>\n",
       "      <td>Oats Quaker 40G Sachet</td>\n",
       "      <td>Category: Cereals</td>\n",
       "      <td>Tag: Oats</td>\n",
       "    </tr>\n",
       "    <tr>\n",
       "      <th>137</th>\n",
       "      <td>Noodles Tasty Chicken Supreme 100G</td>\n",
       "      <td>₦149.99</td>\n",
       "      <td>Noodles Tasty Chicken Supreme 100G</td>\n",
       "      <td>Category: Rice, Grains &amp; Pasta</td>\n",
       "      <td>Tag: Noodles Tasty Chicken</td>\n",
       "    </tr>\n",
       "    <tr>\n",
       "      <th>138</th>\n",
       "      <td>Sugar Free 7Up 400Ml</td>\n",
       "      <td>₦149.99</td>\n",
       "      <td>Sugar Free 7Up 400Ml</td>\n",
       "      <td>Category: Soda &amp; Energy drink</td>\n",
       "      <td>Tag: 7Up</td>\n",
       "    </tr>\n",
       "    <tr>\n",
       "      <th>139</th>\n",
       "      <td>Sugar Free Orange Mirinda 400Ml</td>\n",
       "      <td>₦149.99</td>\n",
       "      <td>Sugar Free Orange Mirinda 400Ml</td>\n",
       "      <td>Category: Soda &amp; Energy drink</td>\n",
       "      <td>Tag: Mirinda</td>\n",
       "    </tr>\n",
       "  </tbody>\n",
       "</table>\n",
       "<p>140 rows × 5 columns</p>\n",
       "</div>"
      ],
      "text/plain": [
       "                                  names   prices  \\\n",
       "0        Chewy Caramel Alpenliebe 6.5G    ₦34.99   \n",
       "1    Milk Chewy Caramel Alpenliebe 6.5G   ₦34.99   \n",
       "2      Seasoning Powder Jollof Maggi 8G   ₦52.99   \n",
       "3    Seasoning Powder Chicken Maggi 10G   ₦52.99   \n",
       "4           Chocolate Slab Milk Dune 5G   ₦54.99   \n",
       "..                                  ...      ...   \n",
       "135            Coca Cola 350Ml Nrb, Reg  ₦149.99   \n",
       "136              Oats Quaker 40G Sachet  ₦149.99   \n",
       "137  Noodles Tasty Chicken Supreme 100G  ₦149.99   \n",
       "138                Sugar Free 7Up 400Ml  ₦149.99   \n",
       "139     Sugar Free Orange Mirinda 400Ml  ₦149.99   \n",
       "\n",
       "                                           sku  \\\n",
       "0    Candy Milk Chewy Caramel Alpenliebe 6.5G    \n",
       "1           Milk Chewy Caramel Alpenliebe 6.5G   \n",
       "2             Seasoning Powder Jollof Maggi 8G   \n",
       "3           Seasoning Powder Chicken Maggi 10G   \n",
       "4                  Chocolate Slab Milk Dune 5G   \n",
       "..                                         ...   \n",
       "135                                       Null   \n",
       "136                     Oats Quaker 40G Sachet   \n",
       "137         Noodles Tasty Chicken Supreme 100G   \n",
       "138                       Sugar Free 7Up 400Ml   \n",
       "139            Sugar Free Orange Mirinda 400Ml   \n",
       "\n",
       "                              categories                         tag  \n",
       "0     Category: Confectionery and Snacks                  Tag: Candy  \n",
       "1           Category: Candy & bubble Gum             Tag: Alpenliebe  \n",
       "2    Category: Condiments, Oils & Spices              Tag: Seasoning  \n",
       "3    Category: Condiments, Oils & Spices              Tag: Seasoning  \n",
       "4                    Category: Chocolate              Tag: Chocolate  \n",
       "..                                   ...                         ...  \n",
       "135          Category: Carbonated Juices             Tag: Soft Drink  \n",
       "136                    Category: Cereals                   Tag: Oats  \n",
       "137       Category: Rice, Grains & Pasta  Tag: Noodles Tasty Chicken  \n",
       "138        Category: Soda & Energy drink                    Tag: 7Up  \n",
       "139        Category: Soda & Energy drink                Tag: Mirinda  \n",
       "\n",
       "[140 rows x 5 columns]"
      ]
     },
     "execution_count": 31,
     "metadata": {},
     "output_type": "execute_result"
    }
   ],
   "source": [
    "prod_df = pd.DataFrame(all_products)\n",
    "prod_df"
   ]
  },
  {
   "cell_type": "code",
   "execution_count": 32,
   "id": "9bf1d3e6",
   "metadata": {},
   "outputs": [],
   "source": [
    "# save to csv\n",
    "prod_df.to_csv(\"shoprite_messy_data.csv\")"
   ]
  },
  {
   "cell_type": "code",
   "execution_count": null,
   "id": "15f0d4f1",
   "metadata": {},
   "outputs": [],
   "source": []
  },
  {
   "cell_type": "code",
   "execution_count": null,
   "id": "d155aec6",
   "metadata": {},
   "outputs": [],
   "source": []
  },
  {
   "cell_type": "code",
   "execution_count": null,
   "id": "1cdefb2c",
   "metadata": {},
   "outputs": [],
   "source": []
  },
  {
   "cell_type": "code",
   "execution_count": null,
   "id": "a77356eb",
   "metadata": {},
   "outputs": [],
   "source": []
  },
  {
   "cell_type": "code",
   "execution_count": null,
   "id": "20bd8b6b",
   "metadata": {},
   "outputs": [],
   "source": []
  }
 ],
 "metadata": {
  "kernelspec": {
   "display_name": "Python 3 (ipykernel)",
   "language": "python",
   "name": "python3"
  },
  "language_info": {
   "codemirror_mode": {
    "name": "ipython",
    "version": 3
   },
   "file_extension": ".py",
   "mimetype": "text/x-python",
   "name": "python",
   "nbconvert_exporter": "python",
   "pygments_lexer": "ipython3",
   "version": "3.9.12"
  }
 },
 "nbformat": 4,
 "nbformat_minor": 5
}
