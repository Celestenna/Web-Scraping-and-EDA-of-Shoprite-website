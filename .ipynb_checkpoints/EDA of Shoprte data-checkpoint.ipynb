{
 "cells": [
  {
   "cell_type": "markdown",
   "id": "94fd374d",
   "metadata": {},
   "source": [
    "## Explorative Data Analysis for Shoprite Data"
   ]
  },
  {
   "cell_type": "markdown",
   "id": "a971eb24",
   "metadata": {},
   "source": [
    "Objectives\n",
    "\n",
    "1. Total number of products\n",
    "2. count of products by catgories\n",
    "2. Total categories\n",
    "3. Total price by Categories\n",
    "4. Top 5 most expensive Products\n",
    "5. Top 5 most Expensive categories"
   ]
  },
  {
   "cell_type": "code",
   "execution_count": 1,
   "id": "36182ca2",
   "metadata": {},
   "outputs": [],
   "source": [
    "import numpy as np\n",
    "import pandas as pd\n",
    "import matplotlib.pyplot as plt\n",
    "import seaborn as sns\n",
    "\n",
    "%matplotlib inline"
   ]
  },
  {
   "cell_type": "code",
   "execution_count": 2,
   "id": "db89ad6b",
   "metadata": {},
   "outputs": [],
   "source": [
    "clean_df = pd.read_csv('shoprite_clean_data.csv')"
   ]
  },
  {
   "cell_type": "code",
   "execution_count": 3,
   "id": "5d7407f1",
   "metadata": {},
   "outputs": [
    {
     "data": {
      "text/html": [
       "<div>\n",
       "<style scoped>\n",
       "    .dataframe tbody tr th:only-of-type {\n",
       "        vertical-align: middle;\n",
       "    }\n",
       "\n",
       "    .dataframe tbody tr th {\n",
       "        vertical-align: top;\n",
       "    }\n",
       "\n",
       "    .dataframe thead th {\n",
       "        text-align: right;\n",
       "    }\n",
       "</style>\n",
       "<table border=\"1\" class=\"dataframe\">\n",
       "  <thead>\n",
       "    <tr style=\"text-align: right;\">\n",
       "      <th></th>\n",
       "      <th>Unnamed: 0</th>\n",
       "      <th>names</th>\n",
       "      <th>prices</th>\n",
       "      <th>categories</th>\n",
       "      <th>tag</th>\n",
       "    </tr>\n",
       "  </thead>\n",
       "  <tbody>\n",
       "    <tr>\n",
       "      <th>0</th>\n",
       "      <td>0</td>\n",
       "      <td>Chewy Caramel Alpenliebe 6.5G</td>\n",
       "      <td>34.99</td>\n",
       "      <td>Confectionery and Snacks</td>\n",
       "      <td>Candy</td>\n",
       "    </tr>\n",
       "    <tr>\n",
       "      <th>1</th>\n",
       "      <td>1</td>\n",
       "      <td>Milk Chewy Caramel Alpenliebe 6.5G</td>\n",
       "      <td>34.99</td>\n",
       "      <td>Candy &amp; bubble Gum</td>\n",
       "      <td>Alpenliebe</td>\n",
       "    </tr>\n",
       "    <tr>\n",
       "      <th>2</th>\n",
       "      <td>2</td>\n",
       "      <td>Seasoning Powder Jollof Maggi 8G</td>\n",
       "      <td>52.99</td>\n",
       "      <td>Condiments, Oils &amp; Spices</td>\n",
       "      <td>Seasoning</td>\n",
       "    </tr>\n",
       "    <tr>\n",
       "      <th>3</th>\n",
       "      <td>3</td>\n",
       "      <td>Seasoning Powder Chicken Maggi 10G</td>\n",
       "      <td>52.99</td>\n",
       "      <td>Condiments, Oils &amp; Spices</td>\n",
       "      <td>Seasoning</td>\n",
       "    </tr>\n",
       "    <tr>\n",
       "      <th>4</th>\n",
       "      <td>4</td>\n",
       "      <td>Chocolate Slab Milk Dune 5G</td>\n",
       "      <td>54.99</td>\n",
       "      <td>Chocolate</td>\n",
       "      <td>Chocolate</td>\n",
       "    </tr>\n",
       "  </tbody>\n",
       "</table>\n",
       "</div>"
      ],
      "text/plain": [
       "   Unnamed: 0                               names  prices  \\\n",
       "0           0      Chewy Caramel Alpenliebe 6.5G    34.99   \n",
       "1           1  Milk Chewy Caramel Alpenliebe 6.5G   34.99   \n",
       "2           2    Seasoning Powder Jollof Maggi 8G   52.99   \n",
       "3           3  Seasoning Powder Chicken Maggi 10G   52.99   \n",
       "4           4         Chocolate Slab Milk Dune 5G   54.99   \n",
       "\n",
       "                  categories         tag  \n",
       "0   Confectionery and Snacks       Candy  \n",
       "1         Candy & bubble Gum  Alpenliebe  \n",
       "2  Condiments, Oils & Spices   Seasoning  \n",
       "3  Condiments, Oils & Spices   Seasoning  \n",
       "4                  Chocolate   Chocolate  "
      ]
     },
     "execution_count": 3,
     "metadata": {},
     "output_type": "execute_result"
    }
   ],
   "source": [
    "clean_df.head()"
   ]
  },
  {
   "cell_type": "code",
   "execution_count": 4,
   "id": "9fb166b9",
   "metadata": {},
   "outputs": [
    {
     "name": "stdout",
     "output_type": "stream",
     "text": [
      "<class 'pandas.core.frame.DataFrame'>\n",
      "RangeIndex: 131 entries, 0 to 130\n",
      "Data columns (total 5 columns):\n",
      " #   Column      Non-Null Count  Dtype  \n",
      "---  ------      --------------  -----  \n",
      " 0   Unnamed: 0  131 non-null    int64  \n",
      " 1   names       131 non-null    object \n",
      " 2   prices      131 non-null    float64\n",
      " 3   categories  131 non-null    object \n",
      " 4   tag         131 non-null    object \n",
      "dtypes: float64(1), int64(1), object(3)\n",
      "memory usage: 5.2+ KB\n"
     ]
    }
   ],
   "source": [
    "clean_df.info()"
   ]
  },
  {
   "cell_type": "code",
   "execution_count": 5,
   "id": "0eaea7ed",
   "metadata": {},
   "outputs": [],
   "source": [
    "clean_df.drop(columns=\"Unnamed: 0\", inplace=True)"
   ]
  },
  {
   "cell_type": "code",
   "execution_count": 6,
   "id": "d0435b3d",
   "metadata": {},
   "outputs": [
    {
     "name": "stdout",
     "output_type": "stream",
     "text": [
      "<class 'pandas.core.frame.DataFrame'>\n",
      "RangeIndex: 131 entries, 0 to 130\n",
      "Data columns (total 4 columns):\n",
      " #   Column      Non-Null Count  Dtype  \n",
      "---  ------      --------------  -----  \n",
      " 0   names       131 non-null    object \n",
      " 1   prices      131 non-null    float64\n",
      " 2   categories  131 non-null    object \n",
      " 3   tag         131 non-null    object \n",
      "dtypes: float64(1), object(3)\n",
      "memory usage: 4.2+ KB\n"
     ]
    }
   ],
   "source": [
    "clean_df.info()"
   ]
  },
  {
   "cell_type": "markdown",
   "id": "0a6b847a",
   "metadata": {},
   "source": [
    "#### Total number of products"
   ]
  },
  {
   "cell_type": "code",
   "execution_count": 7,
   "id": "fb738eb5",
   "metadata": {},
   "outputs": [
    {
     "name": "stdout",
     "output_type": "stream",
     "text": [
      "There are 89 unique products in the dataset.\n"
     ]
    }
   ],
   "source": [
    "num_of_products =len(clean_df['names'].unique())\n",
    "\n",
    "print(f\"There are {num_of_products} unique products in the dataset.\")"
   ]
  },
  {
   "cell_type": "markdown",
   "id": "48766a73",
   "metadata": {},
   "source": [
    "#### count of products by catgories"
   ]
  },
  {
   "cell_type": "code",
   "execution_count": 8,
   "id": "4eb3f23a",
   "metadata": {},
   "outputs": [
    {
     "data": {
      "text/plain": [
       "array(['Confectionery and Snacks', 'Candy & bubble Gum',\n",
       "       'Condiments, Oils & Spices', 'Chocolate', 'Biscuits & Cookies',\n",
       "       'Water', 'Hot Drinks and UHT Milk', 'Savoury', 'Milk',\n",
       "       'Canned Foods', 'HotCoco', 'Yoghurt', 'Carbonated Juices', 'Juice',\n",
       "       'Biscuits & Cookies, Confectionery and Snacks',\n",
       "       'Rice, Grains & Pasta', 'Food', 'Soda & Energy drink', 'Cereals',\n",
       "       'Bakery', 'Kitchen', 'Hot Drinks and UHT Milk, Milk'], dtype=object)"
      ]
     },
     "execution_count": 8,
     "metadata": {},
     "output_type": "execute_result"
    }
   ],
   "source": [
    "clean_df['categories'].unique()"
   ]
  },
  {
   "cell_type": "code",
   "execution_count": 9,
   "id": "8df4a89f",
   "metadata": {},
   "outputs": [
    {
     "data": {
      "text/plain": [
       "categories\n",
       "Biscuits & Cookies                              21\n",
       "Carbonated Juices                               16\n",
       "Water                                            9\n",
       "Canned Foods                                     8\n",
       "Rice, Grains & Pasta                             7\n",
       "Soda & Energy drink                              6\n",
       "Milk                                             6\n",
       "Juice                                            6\n",
       "Food                                             6\n",
       "Hot Drinks and UHT Milk                          5\n",
       "HotCoco                                          5\n",
       "Yoghurt                                          5\n",
       "Confectionery and Snacks                         5\n",
       "Condiments, Oils & Spices                        5\n",
       "Biscuits & Cookies, Confectionery and Snacks     5\n",
       "Candy & bubble Gum                               4\n",
       "Cereals                                          3\n",
       "Savoury                                          3\n",
       "Chocolate                                        2\n",
       "Bakery                                           2\n",
       "Hot Drinks and UHT Milk, Milk                    1\n",
       "Kitchen                                          1\n",
       "Name: names, dtype: int64"
      ]
     },
     "execution_count": 9,
     "metadata": {},
     "output_type": "execute_result"
    }
   ],
   "source": [
    "clean_df.groupby(\"categories\")[\"names\"].count().sort_values(ascending=False)"
   ]
  },
  {
   "cell_type": "code",
   "execution_count": 10,
   "id": "86cca9d3",
   "metadata": {},
   "outputs": [
    {
     "data": {
      "text/plain": [
       "categories\n",
       "Biscuits & Cookies      21\n",
       "Carbonated Juices       16\n",
       "Water                    9\n",
       "Canned Foods             8\n",
       "Rice, Grains & Pasta     7\n",
       "Name: names, dtype: int64"
      ]
     },
     "execution_count": 10,
     "metadata": {},
     "output_type": "execute_result"
    }
   ],
   "source": [
    "# top 5\n",
    "clean_df.groupby(\"categories\")[\"names\"].count().sort_values(ascending=False)[:5]\n"
   ]
  },
  {
   "cell_type": "code",
   "execution_count": 12,
   "id": "da13baab",
   "metadata": {},
   "outputs": [
    {
     "data": {
      "text/plain": [
       "categories\n",
       "Biscuits & Cookies      21\n",
       "Carbonated Juices       16\n",
       "Water                    9\n",
       "Canned Foods             8\n",
       "Rice, Grains & Pasta     7\n",
       "Name: names, dtype: int64"
      ]
     },
     "execution_count": 12,
     "metadata": {},
     "output_type": "execute_result"
    }
   ],
   "source": [
    "\n",
    "top_5_products_by_category = clean_df.groupby(\"categories\")[\"names\"].count().sort_values(ascending=False)[:5]\n",
    "\n",
    "top_5_products_by_category"
   ]
  },
  {
   "cell_type": "code",
   "execution_count": 13,
   "id": "3d5b5767",
   "metadata": {},
   "outputs": [
    {
     "data": {
      "image/png": "[encoded data removed]",
      "text/plain": [
       "<Figure size 432x288 with 1 Axes>"
      ]
     },
     "metadata": {
      "needs_background": "light"
     },
     "output_type": "display_data"
    }
   ],
   "source": [
    "# # Visualize\n",
    "x_axis = top_5_products_by_category.index\n",
    "y_axis = top_5_products_by_category.values\n",
    "sns.barplot(x=x_axis, y=y_axis)\n",
    "plt.title('Top 5 Products by Category')\n",
    "plt.xlabel(\"categories\")\n",
    "plt.ylabel('count of products')\n",
    "plt.xticks(rotation=30)\n",
    "plt.show()"
   ]
  },
  {
   "cell_type": "markdown",
   "id": "a6f43aa3",
   "metadata": {},
   "source": [
    "#### Total categories"
   ]
  },
  {
   "cell_type": "code",
   "execution_count": 15,
   "id": "312d436a",
   "metadata": {},
   "outputs": [
    {
     "data": {
      "text/plain": [
       "22"
      ]
     },
     "execution_count": 15,
     "metadata": {},
     "output_type": "execute_result"
    }
   ],
   "source": [
    "tot_categories =len(clean_df['categories'].unique())\n",
    "\n",
    "tot_categories"
   ]
  },
  {
   "cell_type": "markdown",
   "id": "0509e8ac",
   "metadata": {},
   "source": [
    "#### Total price by Categories"
   ]
  },
  {
   "cell_type": "code",
   "execution_count": 16,
   "id": "0fc01212",
   "metadata": {},
   "outputs": [
    {
     "ename": "KeyError",
     "evalue": "'Column not found: price'",
     "output_type": "error",
     "traceback": [
      "\u001b[1;31m---------------------------------------------------------------------------\u001b[0m",
      "\u001b[1;31mKeyError\u001b[0m                                  Traceback (most recent call last)",
      "Input \u001b[1;32mIn [16]\u001b[0m, in \u001b[0;36m<cell line: 1>\u001b[1;34m()\u001b[0m\n\u001b[1;32m----> 1\u001b[0m tot_price_by_categories\u001b[38;5;241m=\u001b[39m \u001b[43mclean_df\u001b[49m\u001b[38;5;241;43m.\u001b[39;49m\u001b[43mgroupby\u001b[49m\u001b[43m(\u001b[49m\u001b[38;5;124;43m\"\u001b[39;49m\u001b[38;5;124;43mcategories\u001b[39;49m\u001b[38;5;124;43m\"\u001b[39;49m\u001b[43m)\u001b[49m\u001b[43m[\u001b[49m\u001b[38;5;124;43m\"\u001b[39;49m\u001b[38;5;124;43mprice\u001b[39;49m\u001b[38;5;124;43m\"\u001b[39;49m\u001b[43m]\u001b[49m\u001b[38;5;241m.\u001b[39mcount()\n",
      "File \u001b[1;32mC:\\ProgramData\\Anaconda3\\lib\\site-packages\\pandas\\core\\groupby\\generic.py:1338\u001b[0m, in \u001b[0;36mDataFrameGroupBy.__getitem__\u001b[1;34m(self, key)\u001b[0m\n\u001b[0;32m   1329\u001b[0m \u001b[38;5;28;01mif\u001b[39;00m \u001b[38;5;28misinstance\u001b[39m(key, \u001b[38;5;28mtuple\u001b[39m) \u001b[38;5;129;01mand\u001b[39;00m \u001b[38;5;28mlen\u001b[39m(key) \u001b[38;5;241m>\u001b[39m \u001b[38;5;241m1\u001b[39m:\n\u001b[0;32m   1330\u001b[0m     \u001b[38;5;66;03m# if len == 1, then it becomes a SeriesGroupBy and this is actually\u001b[39;00m\n\u001b[0;32m   1331\u001b[0m     \u001b[38;5;66;03m# valid syntax, so don't raise warning\u001b[39;00m\n\u001b[0;32m   1332\u001b[0m     warnings\u001b[38;5;241m.\u001b[39mwarn(\n\u001b[0;32m   1333\u001b[0m         \u001b[38;5;124m\"\u001b[39m\u001b[38;5;124mIndexing with multiple keys (implicitly converted to a tuple \u001b[39m\u001b[38;5;124m\"\u001b[39m\n\u001b[0;32m   1334\u001b[0m         \u001b[38;5;124m\"\u001b[39m\u001b[38;5;124mof keys) will be deprecated, use a list instead.\u001b[39m\u001b[38;5;124m\"\u001b[39m,\n\u001b[0;32m   1335\u001b[0m         \u001b[38;5;167;01mFutureWarning\u001b[39;00m,\n\u001b[0;32m   1336\u001b[0m         stacklevel\u001b[38;5;241m=\u001b[39mfind_stack_level(),\n\u001b[0;32m   1337\u001b[0m     )\n\u001b[1;32m-> 1338\u001b[0m \u001b[38;5;28;01mreturn\u001b[39;00m \u001b[38;5;28;43msuper\u001b[39;49m\u001b[43m(\u001b[49m\u001b[43m)\u001b[49m\u001b[38;5;241;43m.\u001b[39;49m\u001b[38;5;21;43m__getitem__\u001b[39;49m\u001b[43m(\u001b[49m\u001b[43mkey\u001b[49m\u001b[43m)\u001b[49m\n",
      "File \u001b[1;32mC:\\ProgramData\\Anaconda3\\lib\\site-packages\\pandas\\core\\base.py:250\u001b[0m, in \u001b[0;36mSelectionMixin.__getitem__\u001b[1;34m(self, key)\u001b[0m\n\u001b[0;32m    248\u001b[0m \u001b[38;5;28;01melse\u001b[39;00m:\n\u001b[0;32m    249\u001b[0m     \u001b[38;5;28;01mif\u001b[39;00m key \u001b[38;5;129;01mnot\u001b[39;00m \u001b[38;5;129;01min\u001b[39;00m \u001b[38;5;28mself\u001b[39m\u001b[38;5;241m.\u001b[39mobj:\n\u001b[1;32m--> 250\u001b[0m         \u001b[38;5;28;01mraise\u001b[39;00m \u001b[38;5;167;01mKeyError\u001b[39;00m(\u001b[38;5;124mf\u001b[39m\u001b[38;5;124m\"\u001b[39m\u001b[38;5;124mColumn not found: \u001b[39m\u001b[38;5;132;01m{\u001b[39;00mkey\u001b[38;5;132;01m}\u001b[39;00m\u001b[38;5;124m\"\u001b[39m)\n\u001b[0;32m    251\u001b[0m     subset \u001b[38;5;241m=\u001b[39m \u001b[38;5;28mself\u001b[39m\u001b[38;5;241m.\u001b[39mobj[key]\n\u001b[0;32m    252\u001b[0m     ndim \u001b[38;5;241m=\u001b[39m subset\u001b[38;5;241m.\u001b[39mndim\n",
      "\u001b[1;31mKeyError\u001b[0m: 'Column not found: price'"
     ]
    }
   ],
   "source": [
    "tot_price_by_categories= clean_df.groupby(\"categories\")[\"price\"].count()"
   ]
  },
  {
   "cell_type": "code",
   "execution_count": null,
   "id": "6a85dc81",
   "metadata": {},
   "outputs": [],
   "source": []
  }
 ],
 "metadata": {
  "kernelspec": {
   "display_name": "Python 3 (ipykernel)",
   "language": "python",
   "name": "python3"
  },
  "language_info": {
   "codemirror_mode": {
    "name": "ipython",
    "version": 3
   },
   "file_extension": ".py",
   "mimetype": "text/x-python",
   "name": "python",
   "nbconvert_exporter": "python",
   "pygments_lexer": "ipython3",
   "version": "3.9.12"
  }
 },
 "nbformat": 4,
 "nbformat_minor": 5
}
