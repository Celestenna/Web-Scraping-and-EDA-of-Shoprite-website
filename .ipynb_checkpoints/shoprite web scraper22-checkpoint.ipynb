{
 "cells": [
  {
   "cell_type": "markdown",
   "id": "a3682c6b",
   "metadata": {},
   "source": [
    "## Web Scraping"
   ]
  },
  {
   "cell_type": "code",
   "execution_count": 1,
   "id": "60c02d9a",
   "metadata": {},
   "outputs": [],
   "source": [
    "# import library\n",
    "import requests"
   ]
  },
  {
   "cell_type": "code",
   "execution_count": 2,
   "id": "3759aaed",
   "metadata": {},
   "outputs": [],
   "source": [
    "# make a get request\n",
    "r = requests.get('https://httpbin.org/basic-auth/user/pass', auth=('user', 'pass'))"
   ]
  },
  {
   "cell_type": "code",
   "execution_count": 3,
   "id": "c5be8406",
   "metadata": {},
   "outputs": [
    {
     "data": {
      "text/plain": [
       "200"
      ]
     },
     "execution_count": 3,
     "metadata": {},
     "output_type": "execute_result"
    }
   ],
   "source": [
    "r.status_code"
   ]
  },
  {
   "cell_type": "code",
   "execution_count": 4,
   "id": "a44d2f96",
   "metadata": {},
   "outputs": [],
   "source": [
    "g = requests.get('https://www.google.com/ola')"
   ]
  },
  {
   "cell_type": "code",
   "execution_count": 5,
   "id": "2d86d0b8",
   "metadata": {},
   "outputs": [
    {
     "data": {
      "text/plain": [
       "404"
      ]
     },
     "execution_count": 5,
     "metadata": {},
     "output_type": "execute_result"
    }
   ],
   "source": [
    "g.status_code"
   ]
  },
  {
   "cell_type": "markdown",
   "id": "a032691e",
   "metadata": {},
   "source": [
    "## Make a request to Shoprite."
   ]
  },
  {
   "cell_type": "code",
   "execution_count": 6,
   "id": "ffe1244c",
   "metadata": {},
   "outputs": [],
   "source": [
    "res = requests.get(url='https://shoprite.ng/shop/')"
   ]
  },
  {
   "cell_type": "code",
   "execution_count": 7,
   "id": "b5c2dab8",
   "metadata": {},
   "outputs": [
    {
     "data": {
      "text/plain": [
       "200"
      ]
     },
     "execution_count": 7,
     "metadata": {},
     "output_type": "execute_result"
    }
   ],
   "source": [
    "res.status_code"
   ]
  },
  {
   "cell_type": "markdown",
   "id": "7dddb60b",
   "metadata": {},
   "source": [
    "## Make a Soup"
   ]
  },
  {
   "cell_type": "code",
   "execution_count": 8,
   "id": "d54ce32c",
   "metadata": {},
   "outputs": [
    {
     "name": "stdout",
     "output_type": "stream",
     "text": [
      "Requirement already satisfied: beautifulsoup4 in /Users/macbook/opt/anaconda3/lib/python3.9/site-packages (4.11.1)\r\n",
      "Requirement already satisfied: soupsieve>1.2 in /Users/macbook/opt/anaconda3/lib/python3.9/site-packages (from beautifulsoup4) (2.3.1)\r\n"
     ]
    }
   ],
   "source": [
    "!pip install beautifulsoup4"
   ]
  },
  {
   "cell_type": "code",
   "execution_count": 9,
   "id": "9e3eb144",
   "metadata": {},
   "outputs": [],
   "source": [
    "from bs4 import BeautifulSoup"
   ]
  },
  {
   "cell_type": "code",
   "execution_count": 10,
   "id": "f27435f7",
   "metadata": {},
   "outputs": [],
   "source": [
    "# create an object of BeautifulSoup\n",
    "soup = BeautifulSoup(res.content, 'html.parser')"
   ]
  },
  {
   "cell_type": "code",
   "execution_count": 11,
   "id": "68615d2c",
   "metadata": {},
   "outputs": [
    {
     "data": {
      "text/plain": [
       "''"
      ]
     },
     "execution_count": 11,
     "metadata": {},
     "output_type": "execute_result"
    }
   ],
   "source": [
    "soup.find('h2').get_text()"
   ]
  },
  {
   "cell_type": "code",
   "execution_count": 12,
   "id": "fa19cd94",
   "metadata": {},
   "outputs": [
    {
     "name": "stdout",
     "output_type": "stream",
     "text": [
      "['', '18 Glenfiddich 750Ml', '2sure Bath Soap Herbal Plus 120g', '2X Snickers 80G', '33 Export 500Ml Can', '5 Alive 780Ml, Berry Blast', '5 Alive 780Ml, Citrus Burst', '7 Up 500Ml NRB, Original', '7Up 50Cl', 'Active Go Milo 20G', 'Active Go Milo 400G Sachet', 'Air Freshener Gel Airwick 45G, Rose', 'Air freshener Ref Airwick 250Ml, Aqua', 'Air freshener Ref Airwick 250Ml, Lav', 'Air Freshner Gel Airwick 45G, Lav', 'Airfryer Model Baf-3501 Binatone 3.5L', 'Airwick 2X250Ml', 'Airwick 2X250Ml, Citrus\\xa0', 'Airwick Fmat 250Ml, Citrus\\xa0', 'Amazing Day Golden Penny 600G', 'American Aviation 750Ml', 'American Honey 750Ml', 'Ankara & Colour Ariel 2Kg\\xa0', 'Ankara Ariel 400G', 'Antiseptic Liquid Savlon 250Ml Pack', 'Antiseptic Liquid Savlon 500Ml Pack', 'Antiseptic Liquid Savlon 500Ml Pack', 'Antiseptic Liquid Savlon 750Ml', 'Aperitif Herb Bitters Orijin 330Ml Can', 'Aperitif Herb Bitters Orijin 750Ml', 'Aperitifs Bitters Confam 750Ml', 'Apperito Bitters  375Ml', 'Apple Caprisonne 100Ml Pouch', 'Apple Caprisonne 200Ml Pouch', 'Apple Fuji 1.5Kg', 'Apples X 6', 'Ariel  Ankara & Colour  800G', 'Ariel Auto 1.8Kg\\xa0', 'Avocado Per Kg', 'Baileys Delight 750Ml']\n"
     ]
    }
   ],
   "source": [
    "all_product_name = soup.find_all('h2') \n",
    "names = [] # an empty list to store all names\n",
    "\n",
    "for product in all_product_name:\n",
    "    prod = product.get_text()\n",
    "    \n",
    "    # append each name to list\n",
    "    names.append(prod)\n",
    "    \n",
    "\n",
    "# print out all names\n",
    "print(names)"
   ]
  },
  {
   "cell_type": "code",
   "execution_count": 13,
   "id": "8690288c",
   "metadata": {},
   "outputs": [
    {
     "name": "stdout",
     "output_type": "stream",
     "text": [
      "['₦1,799.99', '₦54,999.99', '₦349.99', '₦899.99', '₦349.99', '₦499.99', '₦499.99', '₦199.99', '₦199.99', '₦79.99', '₦1,549.99', '₦399.99', '₦4,199.99', '₦4,199.99', '₦399.99', '₦77,799.99', '₦6,699.99', '₦6,699.99', '₦3,199.99', '₦1,199.99', '₦16,999.99', '₦750.00', '₦3,499.99', '₦1,009.99', '₦1,099.99', '₦1,899.99', '₦1,899.99', '₦2,699.99', '₦399.99', '₦1,799.99', '₦1,699.99', '₦1,499.99', '₦89.99', '₦109.99', '₦2,749.99', '₦2,749.99', '₦1,699.99', '₦4,199.99', '₦1,899.99', '₦3,599.99']\n"
     ]
    }
   ],
   "source": [
    "all_prices = soup.find_all('bdi') \n",
    "prices = [] # an empty list to store all prices\n",
    "\n",
    "for price in all_prices:\n",
    "    price = price.get_text()\n",
    "    \n",
    "    # append each price to list\n",
    "    prices.append(price)\n",
    "    \n",
    "\n",
    "# print out all prices\n",
    "print(prices)"
   ]
  },
  {
   "cell_type": "markdown",
   "id": "11fcc551",
   "metadata": {},
   "source": [
    "## Refractoring Code"
   ]
  },
  {
   "cell_type": "code",
   "execution_count": 15,
   "id": "1f756c7c",
   "metadata": {},
   "outputs": [
    {
     "name": "stdout",
     "output_type": "stream",
     "text": [
      "You have just successfully make a request to https://shoprite.ng/shop/.\n"
     ]
    }
   ],
   "source": [
    "# make a requests\n",
    "try:\n",
    "    res = requests.get(url='https://shoprite.ng/shop/')\n",
    "    status = res.status_code\n",
    "    \n",
    "    if status == 200:\n",
    "        print(f\"You have just successfully make a request to {res.url}.\")\n",
    "    else:\n",
    "        print(f'Status Code: {status}') \n",
    "except:\n",
    "    print(f'Status Code: {status}')\n",
    "finally:\n",
    "    content = res.content"
   ]
  },
  {
   "cell_type": "code",
   "execution_count": 16,
   "id": "1add75e2",
   "metadata": {},
   "outputs": [],
   "source": [
    "# create an object of BeautifulSoup\n",
    "soup = BeautifulSoup(content, 'html.parser')"
   ]
  },
  {
   "cell_type": "code",
   "execution_count": 17,
   "id": "6fb050e8",
   "metadata": {},
   "outputs": [],
   "source": [
    "# define an empty dictionary\n",
    "products = {}"
   ]
  },
  {
   "cell_type": "code",
   "execution_count": 18,
   "id": "e9988c7d",
   "metadata": {},
   "outputs": [],
   "source": [
    "# get all the product name\n",
    "names = get_contents('h2')\n",
    "\n",
    "# get all the product price\n",
    "prices = get_contents('bdi')"
   ]
  },
  {
   "cell_type": "code",
   "execution_count": 19,
   "id": "20948268",
   "metadata": {},
   "outputs": [],
   "source": [
    "products.update({\"names\":names, \"prices\":prices})"
   ]
  },
  {
   "cell_type": "code",
   "execution_count": 20,
   "id": "087b0224",
   "metadata": {},
   "outputs": [],
   "source": [
    "import pandas as pd"
   ]
  },
  {
   "cell_type": "code",
   "execution_count": 21,
   "id": "2fd80c0b",
   "metadata": {},
   "outputs": [],
   "source": [
    "shop_df = pd.DataFrame(products)"
   ]
  },
  {
   "cell_type": "code",
   "execution_count": 22,
   "id": "5e4aa26d",
   "metadata": {},
   "outputs": [
    {
     "data": {
      "text/html": [
       "<div>\n",
       "<style scoped>\n",
       "    .dataframe tbody tr th:only-of-type {\n",
       "        vertical-align: middle;\n",
       "    }\n",
       "\n",
       "    .dataframe tbody tr th {\n",
       "        vertical-align: top;\n",
       "    }\n",
       "\n",
       "    .dataframe thead th {\n",
       "        text-align: right;\n",
       "    }\n",
       "</style>\n",
       "<table border=\"1\" class=\"dataframe\">\n",
       "  <thead>\n",
       "    <tr style=\"text-align: right;\">\n",
       "      <th></th>\n",
       "      <th>names</th>\n",
       "      <th>prices</th>\n",
       "    </tr>\n",
       "  </thead>\n",
       "  <tbody>\n",
       "    <tr>\n",
       "      <th>0</th>\n",
       "      <td></td>\n",
       "      <td>₦1,799.99</td>\n",
       "    </tr>\n",
       "    <tr>\n",
       "      <th>1</th>\n",
       "      <td>18 Glenfiddich 750Ml</td>\n",
       "      <td>₦54,999.99</td>\n",
       "    </tr>\n",
       "    <tr>\n",
       "      <th>2</th>\n",
       "      <td>2sure Bath Soap Herbal Plus 120g</td>\n",
       "      <td>₦349.99</td>\n",
       "    </tr>\n",
       "    <tr>\n",
       "      <th>3</th>\n",
       "      <td>2X Snickers 80G</td>\n",
       "      <td>₦899.99</td>\n",
       "    </tr>\n",
       "    <tr>\n",
       "      <th>4</th>\n",
       "      <td>33 Export 500Ml Can</td>\n",
       "      <td>₦349.99</td>\n",
       "    </tr>\n",
       "  </tbody>\n",
       "</table>\n",
       "</div>"
      ],
      "text/plain": [
       "                              names      prices\n",
       "0                                     ₦1,799.99\n",
       "1              18 Glenfiddich 750Ml  ₦54,999.99\n",
       "2  2sure Bath Soap Herbal Plus 120g     ₦349.99\n",
       "3                   2X Snickers 80G     ₦899.99\n",
       "4               33 Export 500Ml Can     ₦349.99"
      ]
     },
     "execution_count": 22,
     "metadata": {},
     "output_type": "execute_result"
    }
   ],
   "source": [
    "shop_df.head()"
   ]
  },
  {
   "cell_type": "markdown",
   "id": "2e9137cd",
   "metadata": {},
   "source": [
    "## Shoprite Data"
   ]
  },
  {
   "cell_type": "code",
   "execution_count": 123,
   "id": "f78766b3",
   "metadata": {},
   "outputs": [],
   "source": [
    "# empty dictionary\n",
    "all_products = {\n",
    "    \"names\": [],\n",
    "    \"prices\": [],\n",
    "    \"sku\": [],\n",
    "    'categories': [],\n",
    "    'tag': []\n",
    "}"
   ]
  },
  {
   "cell_type": "code",
   "execution_count": 124,
   "id": "1f910185",
   "metadata": {},
   "outputs": [],
   "source": [
    "# get the content of an HTML tag\n",
    "def get_contents(tag):\n",
    "    items = soup.find_all(tag) # find all give tag\n",
    "    values = [] # empty list\n",
    "    \n",
    "    for item in items:\n",
    "        if item.get_text() != None:\n",
    "            text = item.get_text() # get text of each tag\n",
    "            values.append(text)\n",
    "        else:\n",
    "            text = 'Null'\n",
    "            values.append(text)\n",
    "        \n",
    "    return values"
   ]
  },
  {
   "cell_type": "code",
   "execution_count": 125,
   "id": "34d680a4",
   "metadata": {},
   "outputs": [],
   "source": [
    "# get other details of an HTML tag\n",
    "def get_details(name):\n",
    "    single_prod_url = f\"https://shoprite.ng/product/{name}\".replace(' ','-')\n",
    "    r = requests.get(single_prod_url)\n",
    "        \n",
    "    soup = BeautifulSoup(r.content, 'html.parser')\n",
    "    \n",
    "    if soup.find('span', class_=\"sku\") != None:\n",
    "        sku = soup.find('span', class_=\"sku\").get_text()\n",
    "    else:\n",
    "        sku = 'Null'\n",
    "\n",
    "    if soup.find('span', class_=\"posted_in\") != None:\n",
    "        category = soup.find('span', class_=\"posted_in\").get_text()\n",
    "    else:\n",
    "        category = 'Null'\n",
    "\n",
    "    if soup.find('span', class_=\"tagged_as\") != None:\n",
    "        tag = soup.find('span', class_=\"tagged_as\").get_text()\n",
    "    else:\n",
    "        tag = 'Null'\n",
    "    \n",
    "    return (sku, category, tag)"
   ]
  },
  {
   "cell_type": "code",
   "execution_count": 126,
   "id": "70bb6473",
   "metadata": {},
   "outputs": [],
   "source": [
    "# make a requests to 5 pages\n",
    "for page in range(1,2):\n",
    "    url = f\"https://shoprite.ng/products/?product-page={page}\"\n",
    "    res = requests.get(url)\n",
    "    \n",
    "    # create an object of BeautifulSoup\n",
    "    soup = BeautifulSoup(res.content, 'html.parser')\n",
    "    \n",
    "    # get product name\n",
    "    names = get_contents('h2')\n",
    "    \n",
    "    #get all the product price\n",
    "    prices = get_contents('bdi')\n",
    "    \n",
    "    \n",
    "    #get all the product sku\n",
    "    skus = []\n",
    "    for name in names:\n",
    "        sku = get_details(name)[0]\n",
    "        skus.append(sku)\n",
    "    \n",
    "    \n",
    "    #get all the product categories\n",
    "    categories = []\n",
    "    for name in names:\n",
    "        category = get_details(name)[1]\n",
    "        categories.append(category)\n",
    "    \n",
    "    \n",
    "    #get all the product tags\n",
    "    tags = []\n",
    "    for name in names:\n",
    "        tag = get_details(name)[2]\n",
    "        tags.append(tag)\n",
    "              \n",
    "            \n",
    "    # Extends the dictionary\n",
    "    all_products['names'].extend(names[1:])\n",
    "    all_products['prices'].extend(prices)\n",
    "    all_products['sku'].extend(skus[1:])\n",
    "    all_products['categories'].extend(categories[1:])\n",
    "    all_products['tag'].extend(tags[1:])"
   ]
  },
  {
   "cell_type": "code",
   "execution_count": 129,
   "id": "bd010247",
   "metadata": {},
   "outputs": [
    {
     "data": {
      "text/html": [
       "<div>\n",
       "<style scoped>\n",
       "    .dataframe tbody tr th:only-of-type {\n",
       "        vertical-align: middle;\n",
       "    }\n",
       "\n",
       "    .dataframe tbody tr th {\n",
       "        vertical-align: top;\n",
       "    }\n",
       "\n",
       "    .dataframe thead th {\n",
       "        text-align: right;\n",
       "    }\n",
       "</style>\n",
       "<table border=\"1\" class=\"dataframe\">\n",
       "  <thead>\n",
       "    <tr style=\"text-align: right;\">\n",
       "      <th></th>\n",
       "      <th>names</th>\n",
       "      <th>prices</th>\n",
       "      <th>sku</th>\n",
       "      <th>categories</th>\n",
       "      <th>tag</th>\n",
       "    </tr>\n",
       "  </thead>\n",
       "  <tbody>\n",
       "    <tr>\n",
       "      <th>0</th>\n",
       "      <td>Chewy Caramel Alpenliebe 6.5G</td>\n",
       "      <td>₦34.99</td>\n",
       "      <td>Candy Milk Chewy Caramel Alpenliebe 6.5G</td>\n",
       "      <td>Category: Confectionery and Snacks</td>\n",
       "      <td>Tag: Candy</td>\n",
       "    </tr>\n",
       "    <tr>\n",
       "      <th>1</th>\n",
       "      <td>Milk Chewy Caramel Alpenliebe 6.5G</td>\n",
       "      <td>₦34.99</td>\n",
       "      <td>Milk Chewy Caramel Alpenliebe 6.5G</td>\n",
       "      <td>Category: Candy &amp; bubble Gum</td>\n",
       "      <td>Tag: Alpenliebe</td>\n",
       "    </tr>\n",
       "    <tr>\n",
       "      <th>2</th>\n",
       "      <td>Seasoning Powder Jollof Maggi 8G</td>\n",
       "      <td>₦52.99</td>\n",
       "      <td>Seasoning Powder Jollof Maggi 8G</td>\n",
       "      <td>Category: Condiments, Oils &amp; Spices</td>\n",
       "      <td>Tag: Seasoning</td>\n",
       "    </tr>\n",
       "    <tr>\n",
       "      <th>3</th>\n",
       "      <td>Seasoning Powder Chicken Maggi 10G</td>\n",
       "      <td>₦52.99</td>\n",
       "      <td>Seasoning Powder Chicken Maggi 10G</td>\n",
       "      <td>Category: Condiments, Oils &amp; Spices</td>\n",
       "      <td>Tag: Seasoning</td>\n",
       "    </tr>\n",
       "    <tr>\n",
       "      <th>4</th>\n",
       "      <td>Chocolate Slab Milk Dune 5G</td>\n",
       "      <td>₦54.99</td>\n",
       "      <td>Chocolate Slab Milk Dune 5G</td>\n",
       "      <td>Category: Chocolate</td>\n",
       "      <td>Tag: Chocolate</td>\n",
       "    </tr>\n",
       "    <tr>\n",
       "      <th>5</th>\n",
       "      <td>Haansbro 39G Malt &amp; Milk</td>\n",
       "      <td>₦59.99</td>\n",
       "      <td>Biscuits Malt &amp; Milk Haansbro 39G</td>\n",
       "      <td>Category: Biscuits &amp; Cookies</td>\n",
       "      <td>Tag: Biscuits</td>\n",
       "    </tr>\n",
       "    <tr>\n",
       "      <th>6</th>\n",
       "      <td>Mcvities 16G Crackers</td>\n",
       "      <td>₦59.99</td>\n",
       "      <td>Crackers Mcvities 16G</td>\n",
       "      <td>Category: Biscuits &amp; Cookies</td>\n",
       "      <td>Tag: Crackers</td>\n",
       "    </tr>\n",
       "    <tr>\n",
       "      <th>7</th>\n",
       "      <td>Mcvities 17.5G Tea</td>\n",
       "      <td>₦59.99</td>\n",
       "      <td>Biscuits Tea  Mcvities 17.5G</td>\n",
       "      <td>Category: Biscuits &amp; Cookies</td>\n",
       "      <td>Tag: Biscuits</td>\n",
       "    </tr>\n",
       "    <tr>\n",
       "      <th>8</th>\n",
       "      <td>Water Still Bigi 750Ml</td>\n",
       "      <td>₦64.99</td>\n",
       "      <td>Water Still Bigi 750Ml</td>\n",
       "      <td>Category: Water</td>\n",
       "      <td>Tag: Water</td>\n",
       "    </tr>\n",
       "    <tr>\n",
       "      <th>9</th>\n",
       "      <td>Biscuits Nice Coconut Haansbro 57G</td>\n",
       "      <td>₦64.99</td>\n",
       "      <td>Biscuits Nice Coconut Haansbro 57G</td>\n",
       "      <td>Category: Biscuits &amp; Cookies</td>\n",
       "      <td>Tag: Biscuit</td>\n",
       "    </tr>\n",
       "    <tr>\n",
       "      <th>10</th>\n",
       "      <td>Biscuits Noreos Choc Hansbro 30G</td>\n",
       "      <td>₦64.99</td>\n",
       "      <td>Biscuits Noreos Choc Hansbro 30G</td>\n",
       "      <td>Category: Biscuits &amp; Cookies</td>\n",
       "      <td>Tag: Biscuit</td>\n",
       "    </tr>\n",
       "    <tr>\n",
       "      <th>11</th>\n",
       "      <td>Biscuits Power Up 50G</td>\n",
       "      <td>₦64.99</td>\n",
       "      <td>Biscuits Power Up 50G</td>\n",
       "      <td>Category: Biscuits &amp; Cookies</td>\n",
       "      <td>Tag: Biscuit</td>\n",
       "    </tr>\n",
       "    <tr>\n",
       "      <th>12</th>\n",
       "      <td>Crispy Nutzy Peanut 50G</td>\n",
       "      <td>₦69.99</td>\n",
       "      <td>Snack Peanut Crispy Nutzy 50G</td>\n",
       "      <td>Category: Confectionery and Snacks</td>\n",
       "      <td>Tag: Snack</td>\n",
       "    </tr>\n",
       "    <tr>\n",
       "      <th>13</th>\n",
       "      <td>Chocolate Cowbell 20G</td>\n",
       "      <td>₦69.99</td>\n",
       "      <td>Beverage Chocolate Cowbell 20G</td>\n",
       "      <td>Category: Hot Drinks and UHT Milk</td>\n",
       "      <td>Tag: Beverage</td>\n",
       "    </tr>\n",
       "    <tr>\n",
       "      <th>14</th>\n",
       "      <td>Biscuits Digestive Oxford 30G</td>\n",
       "      <td>₦69.99</td>\n",
       "      <td>Biscuits Digestive Oxford 30G</td>\n",
       "      <td>Category: Biscuits &amp; Cookies</td>\n",
       "      <td>Tag: Biscuit</td>\n",
       "    </tr>\n",
       "    <tr>\n",
       "      <th>15</th>\n",
       "      <td>Snack Peanut Crispy Nutzy 50G</td>\n",
       "      <td>₦69.99</td>\n",
       "      <td>Null</td>\n",
       "      <td>Category: Savoury</td>\n",
       "      <td>Tag: Nutzy</td>\n",
       "    </tr>\n",
       "    <tr>\n",
       "      <th>16</th>\n",
       "      <td>Milk Powder Avantage Kerrygold 12G Sachet</td>\n",
       "      <td>₦69.99</td>\n",
       "      <td>Milk Powder Avantage Kerrygold 12G Sachet</td>\n",
       "      <td>Category: Milk</td>\n",
       "      <td>Tag: Milk Powder</td>\n",
       "    </tr>\n",
       "    <tr>\n",
       "      <th>17</th>\n",
       "      <td>Tomato Paste Reg Chain Mix Vitali 70G</td>\n",
       "      <td>₦74.99</td>\n",
       "      <td>Tomato Paste Reg Chain Mix Vitali 70G</td>\n",
       "      <td>Category: Canned Foods</td>\n",
       "      <td>Tag: Tomato Paste</td>\n",
       "    </tr>\n",
       "    <tr>\n",
       "      <th>18</th>\n",
       "      <td>Water Still Aquafina 750ML Bottle</td>\n",
       "      <td>₦79.99</td>\n",
       "      <td>Null</td>\n",
       "      <td>Category: Water</td>\n",
       "      <td>Tag: Water</td>\n",
       "    </tr>\n",
       "    <tr>\n",
       "      <th>19</th>\n",
       "      <td>Active Go Milo 20G</td>\n",
       "      <td>₦79.99</td>\n",
       "      <td>Active Go Milo 20G</td>\n",
       "      <td>Category: HotCoco</td>\n",
       "      <td>Tag: Milo</td>\n",
       "    </tr>\n",
       "  </tbody>\n",
       "</table>\n",
       "</div>"
      ],
      "text/plain": [
       "                                        names  prices  \\\n",
       "0              Chewy Caramel Alpenliebe 6.5G   ₦34.99   \n",
       "1          Milk Chewy Caramel Alpenliebe 6.5G  ₦34.99   \n",
       "2            Seasoning Powder Jollof Maggi 8G  ₦52.99   \n",
       "3          Seasoning Powder Chicken Maggi 10G  ₦52.99   \n",
       "4                 Chocolate Slab Milk Dune 5G  ₦54.99   \n",
       "5                    Haansbro 39G Malt & Milk  ₦59.99   \n",
       "6                       Mcvities 16G Crackers  ₦59.99   \n",
       "7                        Mcvities 17.5G Tea    ₦59.99   \n",
       "8                      Water Still Bigi 750Ml  ₦64.99   \n",
       "9          Biscuits Nice Coconut Haansbro 57G  ₦64.99   \n",
       "10           Biscuits Noreos Choc Hansbro 30G  ₦64.99   \n",
       "11                      Biscuits Power Up 50G  ₦64.99   \n",
       "12                   Crispy Nutzy Peanut 50G   ₦69.99   \n",
       "13                      Chocolate Cowbell 20G  ₦69.99   \n",
       "14              Biscuits Digestive Oxford 30G  ₦69.99   \n",
       "15              Snack Peanut Crispy Nutzy 50G  ₦69.99   \n",
       "16  Milk Powder Avantage Kerrygold 12G Sachet  ₦69.99   \n",
       "17      Tomato Paste Reg Chain Mix Vitali 70G  ₦74.99   \n",
       "18          Water Still Aquafina 750ML Bottle  ₦79.99   \n",
       "19                         Active Go Milo 20G  ₦79.99   \n",
       "\n",
       "                                          sku  \\\n",
       "0   Candy Milk Chewy Caramel Alpenliebe 6.5G    \n",
       "1          Milk Chewy Caramel Alpenliebe 6.5G   \n",
       "2            Seasoning Powder Jollof Maggi 8G   \n",
       "3          Seasoning Powder Chicken Maggi 10G   \n",
       "4                 Chocolate Slab Milk Dune 5G   \n",
       "5           Biscuits Malt & Milk Haansbro 39G   \n",
       "6                       Crackers Mcvities 16G   \n",
       "7                Biscuits Tea  Mcvities 17.5G   \n",
       "8                      Water Still Bigi 750Ml   \n",
       "9          Biscuits Nice Coconut Haansbro 57G   \n",
       "10           Biscuits Noreos Choc Hansbro 30G   \n",
       "11                      Biscuits Power Up 50G   \n",
       "12             Snack Peanut Crispy Nutzy 50G    \n",
       "13             Beverage Chocolate Cowbell 20G   \n",
       "14              Biscuits Digestive Oxford 30G   \n",
       "15                                       Null   \n",
       "16  Milk Powder Avantage Kerrygold 12G Sachet   \n",
       "17      Tomato Paste Reg Chain Mix Vitali 70G   \n",
       "18                                       Null   \n",
       "19                         Active Go Milo 20G   \n",
       "\n",
       "                             categories                tag  \n",
       "0    Category: Confectionery and Snacks         Tag: Candy  \n",
       "1          Category: Candy & bubble Gum    Tag: Alpenliebe  \n",
       "2   Category: Condiments, Oils & Spices     Tag: Seasoning  \n",
       "3   Category: Condiments, Oils & Spices     Tag: Seasoning  \n",
       "4                   Category: Chocolate     Tag: Chocolate  \n",
       "5          Category: Biscuits & Cookies      Tag: Biscuits  \n",
       "6          Category: Biscuits & Cookies      Tag: Crackers  \n",
       "7          Category: Biscuits & Cookies      Tag: Biscuits  \n",
       "8                       Category: Water         Tag: Water  \n",
       "9          Category: Biscuits & Cookies       Tag: Biscuit  \n",
       "10         Category: Biscuits & Cookies       Tag: Biscuit  \n",
       "11         Category: Biscuits & Cookies       Tag: Biscuit  \n",
       "12   Category: Confectionery and Snacks         Tag: Snack  \n",
       "13    Category: Hot Drinks and UHT Milk      Tag: Beverage  \n",
       "14         Category: Biscuits & Cookies       Tag: Biscuit  \n",
       "15                    Category: Savoury         Tag: Nutzy  \n",
       "16                       Category: Milk   Tag: Milk Powder  \n",
       "17               Category: Canned Foods  Tag: Tomato Paste  \n",
       "18                      Category: Water         Tag: Water  \n",
       "19                    Category: HotCoco          Tag: Milo  "
      ]
     },
     "execution_count": 129,
     "metadata": {},
     "output_type": "execute_result"
    }
   ],
   "source": [
    "# create DataFrame\n",
    "prod_df = pd.DataFrame(all_products)\n",
    "prod_df"
   ]
  },
  {
   "cell_type": "code",
   "execution_count": 132,
   "id": "e8970a5e",
   "metadata": {},
   "outputs": [
    {
     "data": {
      "text/plain": [
       "11"
      ]
     },
     "execution_count": 132,
     "metadata": {},
     "output_type": "execute_result"
    }
   ],
   "source": [
    "len(prod_df['categories'].unique())"
   ]
  },
  {
   "cell_type": "code",
   "execution_count": null,
   "id": "1b60a694",
   "metadata": {},
   "outputs": [],
   "source": []
  }
 ],
 "metadata": {
  "kernelspec": {
   "display_name": "Python 3 (ipykernel)",
   "language": "python",
   "name": "python3"
  },
  "language_info": {
   "codemirror_mode": {
    "name": "ipython",
    "version": 3
   },
   "file_extension": ".py",
   "mimetype": "text/x-python",
   "name": "python",
   "nbconvert_exporter": "python",
   "pygments_lexer": "ipython3",
   "version": "3.9.12"
  }
 },
 "nbformat": 4,
 "nbformat_minor": 5
}
