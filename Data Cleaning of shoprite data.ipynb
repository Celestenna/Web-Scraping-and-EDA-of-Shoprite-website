{
 "cells": [
  {
   "cell_type": "markdown",
   "id": "9bfe6218",
   "metadata": {},
   "source": [
    "## Data Cleaning of Shoprite Data"
   ]
  },
  {
   "cell_type": "code",
   "execution_count": 1,
   "id": "db6d4e94",
   "metadata": {},
   "outputs": [],
   "source": [
    "import numpy as np # mathematical functions\n",
    "import pandas as pd # Data analysis\n",
    "import matplotlib.pyplot as plt # Visualization\n",
    "\n",
    "%matplotlib inline"
   ]
  },
  {
   "cell_type": "markdown",
   "id": "e8b3c9cc",
   "metadata": {},
   "source": [
    "### Load Data"
   ]
  },
  {
   "cell_type": "code",
   "execution_count": 2,
   "id": "30f07e36",
   "metadata": {},
   "outputs": [
    {
     "data": {
      "text/html": [
       "<div>\n",
       "<style scoped>\n",
       "    .dataframe tbody tr th:only-of-type {\n",
       "        vertical-align: middle;\n",
       "    }\n",
       "\n",
       "    .dataframe tbody tr th {\n",
       "        vertical-align: top;\n",
       "    }\n",
       "\n",
       "    .dataframe thead th {\n",
       "        text-align: right;\n",
       "    }\n",
       "</style>\n",
       "<table border=\"1\" class=\"dataframe\">\n",
       "  <thead>\n",
       "    <tr style=\"text-align: right;\">\n",
       "      <th></th>\n",
       "      <th>Unnamed: 0</th>\n",
       "      <th>names</th>\n",
       "      <th>prices</th>\n",
       "      <th>sku</th>\n",
       "      <th>categories</th>\n",
       "      <th>tag</th>\n",
       "    </tr>\n",
       "  </thead>\n",
       "  <tbody>\n",
       "    <tr>\n",
       "      <th>0</th>\n",
       "      <td>0</td>\n",
       "      <td>Chewy Caramel Alpenliebe 6.5G</td>\n",
       "      <td>₦34.99</td>\n",
       "      <td>Candy Milk Chewy Caramel Alpenliebe 6.5G</td>\n",
       "      <td>Category: Confectionery and Snacks</td>\n",
       "      <td>Tag: Candy</td>\n",
       "    </tr>\n",
       "    <tr>\n",
       "      <th>1</th>\n",
       "      <td>1</td>\n",
       "      <td>Milk Chewy Caramel Alpenliebe 6.5G</td>\n",
       "      <td>₦34.99</td>\n",
       "      <td>Milk Chewy Caramel Alpenliebe 6.5G</td>\n",
       "      <td>Category: Candy &amp; bubble Gum</td>\n",
       "      <td>Tag: Alpenliebe</td>\n",
       "    </tr>\n",
       "    <tr>\n",
       "      <th>2</th>\n",
       "      <td>2</td>\n",
       "      <td>Seasoning Powder Jollof Maggi 8G</td>\n",
       "      <td>₦52.99</td>\n",
       "      <td>Seasoning Powder Jollof Maggi 8G</td>\n",
       "      <td>Category: Condiments, Oils &amp; Spices</td>\n",
       "      <td>Tag: Seasoning</td>\n",
       "    </tr>\n",
       "    <tr>\n",
       "      <th>3</th>\n",
       "      <td>3</td>\n",
       "      <td>Seasoning Powder Chicken Maggi 10G</td>\n",
       "      <td>₦52.99</td>\n",
       "      <td>Seasoning Powder Chicken Maggi 10G</td>\n",
       "      <td>Category: Condiments, Oils &amp; Spices</td>\n",
       "      <td>Tag: Seasoning</td>\n",
       "    </tr>\n",
       "    <tr>\n",
       "      <th>4</th>\n",
       "      <td>4</td>\n",
       "      <td>Chocolate Slab Milk Dune 5G</td>\n",
       "      <td>₦54.99</td>\n",
       "      <td>Chocolate Slab Milk Dune 5G</td>\n",
       "      <td>Category: Chocolate</td>\n",
       "      <td>Tag: Chocolate</td>\n",
       "    </tr>\n",
       "  </tbody>\n",
       "</table>\n",
       "</div>"
      ],
      "text/plain": [
       "   Unnamed: 0                               names  prices  \\\n",
       "0           0      Chewy Caramel Alpenliebe 6.5G   ₦34.99   \n",
       "1           1  Milk Chewy Caramel Alpenliebe 6.5G  ₦34.99   \n",
       "2           2    Seasoning Powder Jollof Maggi 8G  ₦52.99   \n",
       "3           3  Seasoning Powder Chicken Maggi 10G  ₦52.99   \n",
       "4           4         Chocolate Slab Milk Dune 5G  ₦54.99   \n",
       "\n",
       "                                         sku  \\\n",
       "0  Candy Milk Chewy Caramel Alpenliebe 6.5G    \n",
       "1         Milk Chewy Caramel Alpenliebe 6.5G   \n",
       "2           Seasoning Powder Jollof Maggi 8G   \n",
       "3         Seasoning Powder Chicken Maggi 10G   \n",
       "4                Chocolate Slab Milk Dune 5G   \n",
       "\n",
       "                            categories              tag  \n",
       "0   Category: Confectionery and Snacks       Tag: Candy  \n",
       "1         Category: Candy & bubble Gum  Tag: Alpenliebe  \n",
       "2  Category: Condiments, Oils & Spices   Tag: Seasoning  \n",
       "3  Category: Condiments, Oils & Spices   Tag: Seasoning  \n",
       "4                  Category: Chocolate   Tag: Chocolate  "
      ]
     },
     "execution_count": 2,
     "metadata": {},
     "output_type": "execute_result"
    }
   ],
   "source": [
    "df = pd.read_csv(\"shoprite_messy_data.csv\")\n",
    "df.head()"
   ]
  },
  {
   "cell_type": "markdown",
   "id": "e2c219b4",
   "metadata": {},
   "source": [
    "### Understand the Data"
   ]
  },
  {
   "cell_type": "code",
   "execution_count": 3,
   "id": "6f6da1d9",
   "metadata": {},
   "outputs": [],
   "source": [
    "# drop the unamed column\n",
    "\n",
    "df.drop(columns='Unnamed: 0', inplace=True)"
   ]
  },
  {
   "cell_type": "code",
   "execution_count": 4,
   "id": "a4e42025",
   "metadata": {},
   "outputs": [
    {
     "data": {
      "text/plain": [
       "Index(['names', 'prices', 'sku', 'categories', 'tag'], dtype='object')"
      ]
     },
     "execution_count": 4,
     "metadata": {},
     "output_type": "execute_result"
    }
   ],
   "source": [
    "df.columns"
   ]
  },
  {
   "cell_type": "code",
   "execution_count": 5,
   "id": "3eb0951b",
   "metadata": {},
   "outputs": [
    {
     "data": {
      "text/plain": [
       "(140, 5)"
      ]
     },
     "execution_count": 5,
     "metadata": {},
     "output_type": "execute_result"
    }
   ],
   "source": [
    "df.shape"
   ]
  },
  {
   "cell_type": "code",
   "execution_count": 6,
   "id": "bcc537ad",
   "metadata": {},
   "outputs": [
    {
     "data": {
      "text/plain": [
       "40"
      ]
     },
     "execution_count": 6,
     "metadata": {},
     "output_type": "execute_result"
    }
   ],
   "source": [
    "# check for duplicate\n",
    "\n",
    "df.duplicated().sum()"
   ]
  },
  {
   "cell_type": "markdown",
   "id": "0402d930",
   "metadata": {},
   "source": [
    "### No Duplicates was found in the data set"
   ]
  },
  {
   "cell_type": "code",
   "execution_count": 7,
   "id": "c36deceb",
   "metadata": {},
   "outputs": [
    {
     "name": "stdout",
     "output_type": "stream",
     "text": [
      "<class 'pandas.core.frame.DataFrame'>\n",
      "RangeIndex: 140 entries, 0 to 139\n",
      "Data columns (total 5 columns):\n",
      " #   Column      Non-Null Count  Dtype \n",
      "---  ------      --------------  ----- \n",
      " 0   names       140 non-null    object\n",
      " 1   prices      140 non-null    object\n",
      " 2   sku         140 non-null    object\n",
      " 3   categories  140 non-null    object\n",
      " 4   tag         140 non-null    object\n",
      "dtypes: object(5)\n",
      "memory usage: 5.6+ KB\n"
     ]
    }
   ],
   "source": [
    "# check for missing value\n",
    "df.info()"
   ]
  },
  {
   "cell_type": "markdown",
   "id": "1587a3b0",
   "metadata": {},
   "source": [
    "### Find fileds with Null"
   ]
  },
  {
   "cell_type": "code",
   "execution_count": 8,
   "id": "b7575ce5",
   "metadata": {},
   "outputs": [
    {
     "data": {
      "text/plain": [
       "0"
      ]
     },
     "execution_count": 8,
     "metadata": {},
     "output_type": "execute_result"
    }
   ],
   "source": [
    "# for names\n",
    "(df['names']== \"Null\").sum()"
   ]
  },
  {
   "cell_type": "code",
   "execution_count": 9,
   "id": "dd0c124f",
   "metadata": {},
   "outputs": [],
   "source": [
    "df['tag'] = df['tag'].replace('Null', np.nan)"
   ]
  },
  {
   "cell_type": "code",
   "execution_count": 10,
   "id": "7190786c",
   "metadata": {},
   "outputs": [],
   "source": [
    "(df['sku']== \"Null\").sum()\n",
    "\n",
    "df['sku'] = df['sku'].replace('Null', np.nan)"
   ]
  },
  {
   "cell_type": "code",
   "execution_count": 11,
   "id": "7046adff",
   "metadata": {},
   "outputs": [
    {
     "data": {
      "text/plain": [
       "7"
      ]
     },
     "execution_count": 11,
     "metadata": {},
     "output_type": "execute_result"
    }
   ],
   "source": [
    "(df['categories'] == \"Null\").sum()"
   ]
  },
  {
   "cell_type": "markdown",
   "id": "1a945bc9",
   "metadata": {},
   "source": [
    "#### Data Cleaning( clean the price)\n",
    "\n",
    "Remove the currency and convert the price to float"
   ]
  },
  {
   "cell_type": "code",
   "execution_count": 12,
   "id": "43211aa8",
   "metadata": {},
   "outputs": [],
   "source": [
    "df['prices']=df['prices'].str.replace('₦','').astype(float)"
   ]
  },
  {
   "cell_type": "code",
   "execution_count": 13,
   "id": "6525910a",
   "metadata": {},
   "outputs": [
    {
     "name": "stdout",
     "output_type": "stream",
     "text": [
      "<class 'pandas.core.frame.DataFrame'>\n",
      "RangeIndex: 140 entries, 0 to 139\n",
      "Data columns (total 5 columns):\n",
      " #   Column      Non-Null Count  Dtype  \n",
      "---  ------      --------------  -----  \n",
      " 0   names       140 non-null    object \n",
      " 1   prices      140 non-null    float64\n",
      " 2   sku         124 non-null    object \n",
      " 3   categories  140 non-null    object \n",
      " 4   tag         131 non-null    object \n",
      "dtypes: float64(1), object(4)\n",
      "memory usage: 5.6+ KB\n"
     ]
    }
   ],
   "source": [
    "df.info()"
   ]
  },
  {
   "cell_type": "code",
   "execution_count": 14,
   "id": "dde1ed2c",
   "metadata": {},
   "outputs": [],
   "source": [
    "# drop sku column\n",
    "\n",
    "df.drop(columns='sku',inplace=True)"
   ]
  },
  {
   "cell_type": "code",
   "execution_count": 15,
   "id": "8428d648",
   "metadata": {},
   "outputs": [],
   "source": [
    "df.dropna(inplace=True)"
   ]
  },
  {
   "cell_type": "code",
   "execution_count": 16,
   "id": "87d4b001",
   "metadata": {},
   "outputs": [
    {
     "data": {
      "text/html": [
       "<div>\n",
       "<style scoped>\n",
       "    .dataframe tbody tr th:only-of-type {\n",
       "        vertical-align: middle;\n",
       "    }\n",
       "\n",
       "    .dataframe tbody tr th {\n",
       "        vertical-align: top;\n",
       "    }\n",
       "\n",
       "    .dataframe thead th {\n",
       "        text-align: right;\n",
       "    }\n",
       "</style>\n",
       "<table border=\"1\" class=\"dataframe\">\n",
       "  <thead>\n",
       "    <tr style=\"text-align: right;\">\n",
       "      <th></th>\n",
       "      <th>names</th>\n",
       "      <th>prices</th>\n",
       "      <th>categories</th>\n",
       "      <th>tag</th>\n",
       "    </tr>\n",
       "  </thead>\n",
       "  <tbody>\n",
       "    <tr>\n",
       "      <th>0</th>\n",
       "      <td>Chewy Caramel Alpenliebe 6.5G</td>\n",
       "      <td>34.99</td>\n",
       "      <td>Category: Confectionery and Snacks</td>\n",
       "      <td>Tag: Candy</td>\n",
       "    </tr>\n",
       "    <tr>\n",
       "      <th>1</th>\n",
       "      <td>Milk Chewy Caramel Alpenliebe 6.5G</td>\n",
       "      <td>34.99</td>\n",
       "      <td>Category: Candy &amp; bubble Gum</td>\n",
       "      <td>Tag: Alpenliebe</td>\n",
       "    </tr>\n",
       "    <tr>\n",
       "      <th>2</th>\n",
       "      <td>Seasoning Powder Jollof Maggi 8G</td>\n",
       "      <td>52.99</td>\n",
       "      <td>Category: Condiments, Oils &amp; Spices</td>\n",
       "      <td>Tag: Seasoning</td>\n",
       "    </tr>\n",
       "    <tr>\n",
       "      <th>3</th>\n",
       "      <td>Seasoning Powder Chicken Maggi 10G</td>\n",
       "      <td>52.99</td>\n",
       "      <td>Category: Condiments, Oils &amp; Spices</td>\n",
       "      <td>Tag: Seasoning</td>\n",
       "    </tr>\n",
       "    <tr>\n",
       "      <th>4</th>\n",
       "      <td>Chocolate Slab Milk Dune 5G</td>\n",
       "      <td>54.99</td>\n",
       "      <td>Category: Chocolate</td>\n",
       "      <td>Tag: Chocolate</td>\n",
       "    </tr>\n",
       "  </tbody>\n",
       "</table>\n",
       "</div>"
      ],
      "text/plain": [
       "                                names  prices  \\\n",
       "0      Chewy Caramel Alpenliebe 6.5G    34.99   \n",
       "1  Milk Chewy Caramel Alpenliebe 6.5G   34.99   \n",
       "2    Seasoning Powder Jollof Maggi 8G   52.99   \n",
       "3  Seasoning Powder Chicken Maggi 10G   52.99   \n",
       "4         Chocolate Slab Milk Dune 5G   54.99   \n",
       "\n",
       "                            categories              tag  \n",
       "0   Category: Confectionery and Snacks       Tag: Candy  \n",
       "1         Category: Candy & bubble Gum  Tag: Alpenliebe  \n",
       "2  Category: Condiments, Oils & Spices   Tag: Seasoning  \n",
       "3  Category: Condiments, Oils & Spices   Tag: Seasoning  \n",
       "4                  Category: Chocolate   Tag: Chocolate  "
      ]
     },
     "execution_count": 16,
     "metadata": {},
     "output_type": "execute_result"
    }
   ],
   "source": [
    "df.head()"
   ]
  },
  {
   "cell_type": "markdown",
   "id": "62fe575c",
   "metadata": {},
   "source": [
    "#### clean the category and tag column"
   ]
  },
  {
   "cell_type": "code",
   "execution_count": 17,
   "id": "53e50d08",
   "metadata": {},
   "outputs": [],
   "source": [
    "df['categories']= df['categories'].str.replace('Category: ','')\n",
    "df['categories']= df['categories'].str.replace('Categories: ','')"
   ]
  },
  {
   "cell_type": "code",
   "execution_count": 18,
   "id": "ce81a4c8",
   "metadata": {},
   "outputs": [],
   "source": [
    "df['tag']= df['tag'].str.replace('Tag: ','')"
   ]
  },
  {
   "cell_type": "code",
   "execution_count": 19,
   "id": "40f59ef4",
   "metadata": {},
   "outputs": [
    {
     "data": {
      "text/html": [
       "<div>\n",
       "<style scoped>\n",
       "    .dataframe tbody tr th:only-of-type {\n",
       "        vertical-align: middle;\n",
       "    }\n",
       "\n",
       "    .dataframe tbody tr th {\n",
       "        vertical-align: top;\n",
       "    }\n",
       "\n",
       "    .dataframe thead th {\n",
       "        text-align: right;\n",
       "    }\n",
       "</style>\n",
       "<table border=\"1\" class=\"dataframe\">\n",
       "  <thead>\n",
       "    <tr style=\"text-align: right;\">\n",
       "      <th></th>\n",
       "      <th>names</th>\n",
       "      <th>prices</th>\n",
       "      <th>categories</th>\n",
       "      <th>tag</th>\n",
       "    </tr>\n",
       "  </thead>\n",
       "  <tbody>\n",
       "    <tr>\n",
       "      <th>0</th>\n",
       "      <td>Chewy Caramel Alpenliebe 6.5G</td>\n",
       "      <td>34.99</td>\n",
       "      <td>Confectionery and Snacks</td>\n",
       "      <td>Candy</td>\n",
       "    </tr>\n",
       "    <tr>\n",
       "      <th>1</th>\n",
       "      <td>Milk Chewy Caramel Alpenliebe 6.5G</td>\n",
       "      <td>34.99</td>\n",
       "      <td>Candy &amp; bubble Gum</td>\n",
       "      <td>Alpenliebe</td>\n",
       "    </tr>\n",
       "    <tr>\n",
       "      <th>2</th>\n",
       "      <td>Seasoning Powder Jollof Maggi 8G</td>\n",
       "      <td>52.99</td>\n",
       "      <td>Condiments, Oils &amp; Spices</td>\n",
       "      <td>Seasoning</td>\n",
       "    </tr>\n",
       "    <tr>\n",
       "      <th>3</th>\n",
       "      <td>Seasoning Powder Chicken Maggi 10G</td>\n",
       "      <td>52.99</td>\n",
       "      <td>Condiments, Oils &amp; Spices</td>\n",
       "      <td>Seasoning</td>\n",
       "    </tr>\n",
       "    <tr>\n",
       "      <th>4</th>\n",
       "      <td>Chocolate Slab Milk Dune 5G</td>\n",
       "      <td>54.99</td>\n",
       "      <td>Chocolate</td>\n",
       "      <td>Chocolate</td>\n",
       "    </tr>\n",
       "  </tbody>\n",
       "</table>\n",
       "</div>"
      ],
      "text/plain": [
       "                                names  prices                 categories  \\\n",
       "0      Chewy Caramel Alpenliebe 6.5G    34.99   Confectionery and Snacks   \n",
       "1  Milk Chewy Caramel Alpenliebe 6.5G   34.99         Candy & bubble Gum   \n",
       "2    Seasoning Powder Jollof Maggi 8G   52.99  Condiments, Oils & Spices   \n",
       "3  Seasoning Powder Chicken Maggi 10G   52.99  Condiments, Oils & Spices   \n",
       "4         Chocolate Slab Milk Dune 5G   54.99                  Chocolate   \n",
       "\n",
       "          tag  \n",
       "0       Candy  \n",
       "1  Alpenliebe  \n",
       "2   Seasoning  \n",
       "3   Seasoning  \n",
       "4   Chocolate  "
      ]
     },
     "execution_count": 19,
     "metadata": {},
     "output_type": "execute_result"
    }
   ],
   "source": [
    "df.head()"
   ]
  },
  {
   "cell_type": "markdown",
   "id": "00a20883",
   "metadata": {},
   "source": [
    "#### Add a new column(Featured Engineering)\n",
    "\n",
    "will hold weight of products"
   ]
  },
  {
   "cell_type": "code",
   "execution_count": 20,
   "id": "25ed7016",
   "metadata": {},
   "outputs": [
    {
     "data": {
      "text/plain": [
       "0          Chewy Caramel Alpenliebe 6.5G \n",
       "1      Milk Chewy Caramel Alpenliebe 6.5G\n",
       "2        Seasoning Powder Jollof Maggi 8G\n",
       "3      Seasoning Powder Chicken Maggi 10G\n",
       "4             Chocolate Slab Milk Dune 5G\n",
       "                      ...                \n",
       "135              Coca Cola 350Ml Nrb, Reg\n",
       "136                Oats Quaker 40G Sachet\n",
       "137    Noodles Tasty Chicken Supreme 100G\n",
       "138                  Sugar Free 7Up 400Ml\n",
       "139       Sugar Free Orange Mirinda 400Ml\n",
       "Name: names, Length: 131, dtype: object"
      ]
     },
     "execution_count": 20,
     "metadata": {},
     "output_type": "execute_result"
    }
   ],
   "source": [
    "df['names']"
   ]
  },
  {
   "cell_type": "markdown",
   "id": "8b56a45c",
   "metadata": {},
   "source": [
    "#### Save into csv"
   ]
  },
  {
   "cell_type": "code",
   "execution_count": 21,
   "id": "da822795",
   "metadata": {},
   "outputs": [],
   "source": [
    "df.to_csv('shoprite_clean_data.csv')"
   ]
  },
  {
   "cell_type": "code",
   "execution_count": null,
   "id": "b95f803d",
   "metadata": {},
   "outputs": [],
   "source": []
  }
 ],
 "metadata": {
  "kernelspec": {
   "display_name": "Python 3 (ipykernel)",
   "language": "python",
   "name": "python3"
  },
  "language_info": {
   "codemirror_mode": {
    "name": "ipython",
    "version": 3
   },
   "file_extension": ".py",
   "mimetype": "text/x-python",
   "name": "python",
   "nbconvert_exporter": "python",
   "pygments_lexer": "ipython3",
   "version": "3.9.12"
  }
 },
 "nbformat": 4,
 "nbformat_minor": 5
}
