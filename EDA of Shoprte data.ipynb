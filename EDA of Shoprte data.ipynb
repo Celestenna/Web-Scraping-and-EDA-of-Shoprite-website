{
 "cells": [
  {
   "cell_type": "markdown",
   "id": "94fd374d",
   "metadata": {},
   "source": [
    "## Explorative Data Analysis for Shoprite Data"
   ]
  },
  {
   "cell_type": "markdown",
   "id": "a971eb24",
   "metadata": {},
   "source": [
    "Objectives\n",
    "\n",
    "1. Total number of products\n",
    "2. count of products by catgories\n",
    "2. Total categories\n",
    "3. Total price by Categories\n",
    "4. Top 5 most expensive Products\n",
    "5. Top 5 most Expensive categories"
   ]
  },
  {
   "cell_type": "code",
   "execution_count": 1,
   "id": "36182ca2",
   "metadata": {},
   "outputs": [],
   "source": [
    "import numpy as np\n",
    "import pandas as pd\n",
    "import matplotlib.pyplot as plt\n",
    "import seaborn as sns\n",
    "\n",
    "%matplotlib inline"
   ]
  },
  {
   "cell_type": "code",
   "execution_count": 2,
   "id": "db89ad6b",
   "metadata": {},
   "outputs": [],
   "source": [
    "clean_df = pd.read_csv('shoprite_clean_data.csv')"
   ]
  },
  {
   "cell_type": "code",
   "execution_count": 3,
   "id": "5d7407f1",
   "metadata": {},
   "outputs": [
    {
     "data": {
      "text/html": [
       "<div>\n",
       "<style scoped>\n",
       "    .dataframe tbody tr th:only-of-type {\n",
       "        vertical-align: middle;\n",
       "    }\n",
       "\n",
       "    .dataframe tbody tr th {\n",
       "        vertical-align: top;\n",
       "    }\n",
       "\n",
       "    .dataframe thead th {\n",
       "        text-align: right;\n",
       "    }\n",
       "</style>\n",
       "<table border=\"1\" class=\"dataframe\">\n",
       "  <thead>\n",
       "    <tr style=\"text-align: right;\">\n",
       "      <th></th>\n",
       "      <th>Unnamed: 0</th>\n",
       "      <th>names</th>\n",
       "      <th>prices</th>\n",
       "      <th>categories</th>\n",
       "      <th>tag</th>\n",
       "    </tr>\n",
       "  </thead>\n",
       "  <tbody>\n",
       "    <tr>\n",
       "      <th>0</th>\n",
       "      <td>0</td>\n",
       "      <td>Chewy Caramel Alpenliebe 6.5G</td>\n",
       "      <td>34.99</td>\n",
       "      <td>Confectionery and Snacks</td>\n",
       "      <td>Candy</td>\n",
       "    </tr>\n",
       "    <tr>\n",
       "      <th>1</th>\n",
       "      <td>1</td>\n",
       "      <td>Milk Chewy Caramel Alpenliebe 6.5G</td>\n",
       "      <td>34.99</td>\n",
       "      <td>Candy &amp; bubble Gum</td>\n",
       "      <td>Alpenliebe</td>\n",
       "    </tr>\n",
       "    <tr>\n",
       "      <th>2</th>\n",
       "      <td>2</td>\n",
       "      <td>Seasoning Powder Jollof Maggi 8G</td>\n",
       "      <td>52.99</td>\n",
       "      <td>Condiments, Oils &amp; Spices</td>\n",
       "      <td>Seasoning</td>\n",
       "    </tr>\n",
       "    <tr>\n",
       "      <th>3</th>\n",
       "      <td>3</td>\n",
       "      <td>Seasoning Powder Chicken Maggi 10G</td>\n",
       "      <td>52.99</td>\n",
       "      <td>Condiments, Oils &amp; Spices</td>\n",
       "      <td>Seasoning</td>\n",
       "    </tr>\n",
       "    <tr>\n",
       "      <th>4</th>\n",
       "      <td>4</td>\n",
       "      <td>Chocolate Slab Milk Dune 5G</td>\n",
       "      <td>54.99</td>\n",
       "      <td>Chocolate</td>\n",
       "      <td>Chocolate</td>\n",
       "    </tr>\n",
       "  </tbody>\n",
       "</table>\n",
       "</div>"
      ],
      "text/plain": [
       "   Unnamed: 0                               names  prices  \\\n",
       "0           0      Chewy Caramel Alpenliebe 6.5G    34.99   \n",
       "1           1  Milk Chewy Caramel Alpenliebe 6.5G   34.99   \n",
       "2           2    Seasoning Powder Jollof Maggi 8G   52.99   \n",
       "3           3  Seasoning Powder Chicken Maggi 10G   52.99   \n",
       "4           4         Chocolate Slab Milk Dune 5G   54.99   \n",
       "\n",
       "                  categories         tag  \n",
       "0   Confectionery and Snacks       Candy  \n",
       "1         Candy & bubble Gum  Alpenliebe  \n",
       "2  Condiments, Oils & Spices   Seasoning  \n",
       "3  Condiments, Oils & Spices   Seasoning  \n",
       "4                  Chocolate   Chocolate  "
      ]
     },
     "execution_count": 3,
     "metadata": {},
     "output_type": "execute_result"
    }
   ],
   "source": [
    "clean_df.head()"
   ]
  },
  {
   "cell_type": "code",
   "execution_count": 4,
   "id": "9fb166b9",
   "metadata": {},
   "outputs": [
    {
     "name": "stdout",
     "output_type": "stream",
     "text": [
      "<class 'pandas.core.frame.DataFrame'>\n",
      "RangeIndex: 131 entries, 0 to 130\n",
      "Data columns (total 5 columns):\n",
      " #   Column      Non-Null Count  Dtype  \n",
      "---  ------      --------------  -----  \n",
      " 0   Unnamed: 0  131 non-null    int64  \n",
      " 1   names       131 non-null    object \n",
      " 2   prices      131 non-null    float64\n",
      " 3   categories  131 non-null    object \n",
      " 4   tag         131 non-null    object \n",
      "dtypes: float64(1), int64(1), object(3)\n",
      "memory usage: 5.2+ KB\n"
     ]
    }
   ],
   "source": [
    "clean_df.info()"
   ]
  },
  {
   "cell_type": "code",
   "execution_count": 5,
   "id": "0eaea7ed",
   "metadata": {},
   "outputs": [],
   "source": [
    "clean_df.drop(columns=\"Unnamed: 0\", inplace=True)"
   ]
  },
  {
   "cell_type": "code",
   "execution_count": 6,
   "id": "d0435b3d",
   "metadata": {},
   "outputs": [
    {
     "name": "stdout",
     "output_type": "stream",
     "text": [
      "<class 'pandas.core.frame.DataFrame'>\n",
      "RangeIndex: 131 entries, 0 to 130\n",
      "Data columns (total 4 columns):\n",
      " #   Column      Non-Null Count  Dtype  \n",
      "---  ------      --------------  -----  \n",
      " 0   names       131 non-null    object \n",
      " 1   prices      131 non-null    float64\n",
      " 2   categories  131 non-null    object \n",
      " 3   tag         131 non-null    object \n",
      "dtypes: float64(1), object(3)\n",
      "memory usage: 4.2+ KB\n"
     ]
    }
   ],
   "source": [
    "clean_df.info()"
   ]
  },
  {
   "cell_type": "markdown",
   "id": "0a6b847a",
   "metadata": {},
   "source": [
    "#### Total number of products"
   ]
  },
  {
   "cell_type": "code",
   "execution_count": 7,
   "id": "fb738eb5",
   "metadata": {},
   "outputs": [
    {
     "name": "stdout",
     "output_type": "stream",
     "text": [
      "There are 89 unique products in the dataset.\n"
     ]
    }
   ],
   "source": [
    "num_of_products =len(clean_df['names'].unique())\n",
    "\n",
    "print(f\"There are {num_of_products} unique products in the dataset.\")"
   ]
  },
  {
   "cell_type": "markdown",
   "id": "48766a73",
   "metadata": {},
   "source": [
    "#### count of products by catgories"
   ]
  },
  {
   "cell_type": "code",
   "execution_count": 8,
   "id": "4eb3f23a",
   "metadata": {},
   "outputs": [
    {
     "data": {
      "text/plain": [
       "array(['Confectionery and Snacks', 'Candy & bubble Gum',\n",
       "       'Condiments, Oils & Spices', 'Chocolate', 'Biscuits & Cookies',\n",
       "       'Water', 'Hot Drinks and UHT Milk', 'Savoury', 'Milk',\n",
       "       'Canned Foods', 'HotCoco', 'Yoghurt', 'Carbonated Juices', 'Juice',\n",
       "       'Biscuits & Cookies, Confectionery and Snacks',\n",
       "       'Rice, Grains & Pasta', 'Food', 'Soda & Energy drink', 'Cereals',\n",
       "       'Bakery', 'Kitchen', 'Hot Drinks and UHT Milk, Milk'], dtype=object)"
      ]
     },
     "execution_count": 8,
     "metadata": {},
     "output_type": "execute_result"
    }
   ],
   "source": [
    "clean_df['categories'].unique()"
   ]
  },
  {
   "cell_type": "code",
   "execution_count": 9,
   "id": "8df4a89f",
   "metadata": {},
   "outputs": [
    {
     "data": {
      "text/plain": [
       "categories\n",
       "Biscuits & Cookies                              21\n",
       "Carbonated Juices                               16\n",
       "Water                                            9\n",
       "Canned Foods                                     8\n",
       "Rice, Grains & Pasta                             7\n",
       "Soda & Energy drink                              6\n",
       "Milk                                             6\n",
       "Juice                                            6\n",
       "Food                                             6\n",
       "Hot Drinks and UHT Milk                          5\n",
       "HotCoco                                          5\n",
       "Yoghurt                                          5\n",
       "Confectionery and Snacks                         5\n",
       "Condiments, Oils & Spices                        5\n",
       "Biscuits & Cookies, Confectionery and Snacks     5\n",
       "Candy & bubble Gum                               4\n",
       "Cereals                                          3\n",
       "Savoury                                          3\n",
       "Chocolate                                        2\n",
       "Bakery                                           2\n",
       "Hot Drinks and UHT Milk, Milk                    1\n",
       "Kitchen                                          1\n",
       "Name: names, dtype: int64"
      ]
     },
     "execution_count": 9,
     "metadata": {},
     "output_type": "execute_result"
    }
   ],
   "source": [
    "clean_df.groupby(\"categories\")[\"names\"].count().sort_values(ascending=False)"
   ]
  },
  {
   "cell_type": "code",
   "execution_count": 10,
   "id": "86cca9d3",
   "metadata": {},
   "outputs": [
    {
     "data": {
      "text/plain": [
       "categories\n",
       "Biscuits & Cookies      21\n",
       "Carbonated Juices       16\n",
       "Water                    9\n",
       "Canned Foods             8\n",
       "Rice, Grains & Pasta     7\n",
       "Name: names, dtype: int64"
      ]
     },
     "execution_count": 10,
     "metadata": {},
     "output_type": "execute_result"
    }
   ],
   "source": [
    "# top 5\n",
    "clean_df.groupby(\"categories\")[\"names\"].count().sort_values(ascending=False)[:5]\n"
   ]
  },
  {
   "cell_type": "code",
   "execution_count": 12,
   "id": "da13baab",
   "metadata": {},
   "outputs": [
    {
     "data": {
      "text/plain": [
       "categories\n",
       "Biscuits & Cookies      21\n",
       "Carbonated Juices       16\n",
       "Water                    9\n",
       "Canned Foods             8\n",
       "Rice, Grains & Pasta     7\n",
       "Name: names, dtype: int64"
      ]
     },
     "execution_count": 12,
     "metadata": {},
     "output_type": "execute_result"
    }
   ],
   "source": [
    "\n",
    "top_5_products_by_category = clean_df.groupby(\"categories\")[\"names\"].count().sort_values(ascending=False)[:5]\n",
    "\n",
    "top_5_products_by_category"
   ]
  },
  {
   "cell_type": "code",
   "execution_count": 13,
   "id": "3d5b5767",
   "metadata": {},
   "outputs": [
    {
     "data": {
      "image/png": "[encoded data removed]",
      "text/plain": [
       "<Figure size 432x288 with 1 Axes>"
      ]
     },
     "metadata": {
      "needs_background": "light"
     },
     "output_type": "display_data"
    }
   ],
   "source": [
    "# # Visualize\n",
    "x_axis = top_5_products_by_category.index\n",
    "y_axis = top_5_products_by_category.values\n",
    "sns.barplot(x=x_axis, y=y_axis)\n",
    "plt.title('Top 5 Products by Category')\n",
    "plt.xlabel(\"categories\")\n",
    "plt.ylabel('count of products')\n",
    "plt.xticks(rotation=30)\n",
    "plt.show()"
   ]
  },
  {
   "cell_type": "markdown",
   "id": "df750575",
   "metadata": {},
   "source": [
    "#### Total categories"
   ]
  },
  {
   "cell_type": "code",
   "execution_count": 15,
   "id": "a3cab1e6",
   "metadata": {},
   "outputs": [
    {
     "data": {
      "text/plain": [
       "22"
      ]
     },
     "execution_count": 15,
     "metadata": {},
     "output_type": "execute_result"
    }
   ],
   "source": [
    "tot_categories =len(clean_df['categories'].unique())\n",
    "\n",
    "tot_categories"
   ]
  },
  {
   "cell_type": "markdown",
   "id": "5ed5549e",
   "metadata": {},
   "source": [
    "#### Total price by Categories"
   ]
  },
  {
   "cell_type": "code",
   "execution_count": 20,
   "id": "c0152b61",
   "metadata": {},
   "outputs": [
    {
     "data": {
      "text/plain": [
       "categories\n",
       "Biscuits & Cookies      21\n",
       "Carbonated Juices       16\n",
       "Water                    9\n",
       "Canned Foods             8\n",
       "Rice, Grains & Pasta     7\n",
       "Name: prices, dtype: int64"
      ]
     },
     "execution_count": 20,
     "metadata": {},
     "output_type": "execute_result"
    }
   ],
   "source": [
    "tot_price_by_categories= clean_df.groupby(\"categories\")[\"prices\"].count().sort_values(ascending=False)[:5]\n",
    "\n",
    "tot_price_by_categories"
   ]
  },
  {
   "cell_type": "code",
   "execution_count": 21,
   "id": "2dbbdd7d",
   "metadata": {},
   "outputs": [
    {
     "data": {
      "image/png": "[encoded data removed]",
      "text/plain": [
       "<Figure size 432x288 with 1 Axes>"
      ]
     },
     "metadata": {
      "needs_background": "light"
     },
     "output_type": "display_data"
    }
   ],
   "source": [
    "x_axis = tot_price_by_categories.index\n",
    "y_axis = tot_price_by_categories.values\n",
    "sns.barplot(x=x_axis, y=y_axis)\n",
    "plt.title('')\n",
    "plt.xlabel(\"categories\")\n",
    "plt.ylabel('prices')\n",
    "plt.xticks(rotation=30)\n",
    "plt.show()"
   ]
  },
  {
   "cell_type": "markdown",
   "id": "416d0c97",
   "metadata": {},
   "source": [
    " most expensive Products"
   ]
  },
  {
   "cell_type": "code",
   "execution_count": 24,
   "id": "67bc59e9",
   "metadata": {},
   "outputs": [
    {
     "data": {
      "text/plain": [
       "array(['Chewy Caramel Alpenliebe 6.5G\\xa0',\n",
       "       'Milk Chewy Caramel Alpenliebe 6.5G',\n",
       "       'Seasoning Powder Jollof Maggi 8G',\n",
       "       'Seasoning Powder Chicken Maggi 10G',\n",
       "       'Chocolate Slab Milk Dune 5G', 'Haansbro 39G Malt & Milk',\n",
       "       'Mcvities 16G Crackers', 'Mcvities 17.5G Tea\\xa0\\xa0',\n",
       "       'Water Still Bigi 750Ml', 'Biscuits Nice Coconut Haansbro 57G',\n",
       "       'Biscuits Noreos Choc Hansbro 30G', 'Biscuits Power Up 50G',\n",
       "       'Crispy Nutzy Peanut 50G\\xa0', 'Chocolate Cowbell 20G',\n",
       "       'Biscuits Digestive Oxford 30G', 'Snack Peanut Crispy Nutzy 50G',\n",
       "       'Milk Powder Avantage Kerrygold 12G Sachet',\n",
       "       'Tomato Paste Reg Chain Mix Vitali 70G',\n",
       "       'Water Still Aquafina 750ML Bottle', 'Active Go Milo 20G',\n",
       "       'Tomato Paste Pepper Vitapepe 70G Sachet',\n",
       "       'Water Still Aquafina 500Ml Bottle',\n",
       "       'Yoghurt Drink Hollandia 90Ml, Plain',\n",
       "       'Yoghurt Drink Hollandia 90Ml, Strawberry',\n",
       "       'Water (0.75L) Eva 750Ml Bottle', 'Bournvita Cadbury 20G Sachet',\n",
       "       'Water Still Aquafina 750Ml Bottle', 'Smart Malt Chivita 125Ml',\n",
       "       'Apple Caprisonne 100Ml Pouch',\n",
       "       'Water Still Pure Life Nestle 600ML', 'Vitavite 200Ml, Original',\n",
       "       'Vitavite 200Ml, Pine', 'Malt 3In1 Ovaltine 27G Sachet',\n",
       "       'Tomato Paste Chicken Flavor Sonia 65G', 'Gum Clorets 10S, Mint',\n",
       "       'Milk Powder Foremost 12G Sachet',\n",
       "       'Water Still Pure Life Nestle 600Ml', 'Cream Mc Vities 42G\\xa0',\n",
       "       'Mcvities Digestive 45G\\xa0', 'Mcvities Hobnob 45G',\n",
       "       'Noodles Honeywell 70G, Chicken',\n",
       "       'Noodles Instant Supreme Regular Sedaap 120G',\n",
       "       'Noodles Goat Meat Pepper Soup Golden Penny 70G',\n",
       "       'Tomato Paste Tasty Tom 70G Sachet',\n",
       "       'Water Still Pure Life Zinc Nestle 600Ml',\n",
       "       'Apple Caprisonne 200Ml Pouch',\n",
       "       'Tomato Paste Jollof Mix Tasty Tom 70G',\n",
       "       'Soft Drink Coke 350Ml Pet', 'Ovaltine 27G Sachet',\n",
       "       'Mcvities Tea 34G', 'Mcvities 32G Crackers',\n",
       "       'Noodles Instant Indomie 70G, Chicken', 'Noodles Beef Indomie 70G',\n",
       "       'Bigi 350Ml, Apple', 'Bigi 350Ml, Orange', 'Bigi 350Ml, Tropical',\n",
       "       'Coca Cola 350Ml NRB, Zero', 'Fanta 350Ml Nrb, Orange',\n",
       "       'Biscuits Digestive Mcvities 45G', 'Biscuits Hobnob Mcvities 45G',\n",
       "       'Biscuits Vanilla Mcvities 42G', 'Cookies Mc Vities 65G',\n",
       "       'Cookies Milk Pure Bliss 70G', 'Biscuits Dark Cream Mc Vities 42G',\n",
       "       'Snack Cheesy Stix Munch It 35G',\n",
       "       'Milk Powder Full Cream Peak 16G',\n",
       "       'Yoghurt Drink Freshyo Strawberry Blue Boat 115Ml',\n",
       "       'Moon & Star Kelloggs 49.5G', 'Noodle Crayfish Indomie 70G',\n",
       "       'Noodles Inst Indomie 70G, Chic Pepper',\n",
       "       'Noodles Inst Indomie 70G, Chic Sfried',\n",
       "       'Cheese Balls 50G Val Pack', 'Buns Fun 1S',\n",
       "       'Hot Choc 3In1 Cadbury 30G', 'Coke 350Ml Pet',\n",
       "       'Toilet Rolls Soft Family Rose 1Ea Pack', 'Milk Hollandia 50G',\n",
       "       'Noodles Indomie 70G, Onion', 'Rolls White Hotdog 1S',\n",
       "       'Grain Smart Golden Morn 45G',\n",
       "       'Noodles Golden Penny 100G, Chicken', 'Salt Iodised Dangote 500G',\n",
       "       'Milk Full Cream Kerrygold 16G Sachet',\n",
       "       'Original Sprite 350Ml Nrb', 'Coca Cola 350Ml Nrb, Reg',\n",
       "       'Oats Quaker 40G Sachet', 'Noodles Tasty Chicken Supreme 100G',\n",
       "       'Sugar Free 7Up 400Ml', 'Sugar Free Orange Mirinda 400Ml'],\n",
       "      dtype=object)"
      ]
     },
     "execution_count": 24,
     "metadata": {},
     "output_type": "execute_result"
    }
   ],
   "source": [
    "clean_df['names'].unique()"
   ]
  },
  {
   "cell_type": "code",
   "execution_count": 29,
   "id": "2b5f0435",
   "metadata": {},
   "outputs": [
    {
     "data": {
      "text/plain": [
       "names\n",
       "Water (0.75L) Eva 750Ml Bottle        3\n",
       "Active Go Milo 20G                    2\n",
       "Snack Peanut Crispy Nutzy 50G         2\n",
       "Malt 3In1 Ovaltine 27G Sachet         2\n",
       "Mcvities 16G Crackers                 2\n",
       "                                     ..\n",
       "Noodles Tasty Chicken Supreme 100G    1\n",
       "Oats Quaker 40G Sachet                1\n",
       "Original Sprite 350Ml Nrb             1\n",
       "Hot Choc 3In1 Cadbury 30G             1\n",
       "Milk Powder Full Cream Peak 16G       1\n",
       "Name: prices, Length: 89, dtype: int64"
      ]
     },
     "execution_count": 29,
     "metadata": {},
     "output_type": "execute_result"
    }
   ],
   "source": [
    "top_10_products=clean_df.groupby(\"names\")[\"prices\"].count().sort_values(ascending=False)\n",
    "\n",
    "top_10_products"
   ]
  },
  {
   "cell_type": "code",
   "execution_count": null,
   "id": "9a644bad",
   "metadata": {},
   "outputs": [],
   "source": []
  }
 ],
 "metadata": {
  "kernelspec": {
   "display_name": "Python 3 (ipykernel)",
   "language": "python",
   "name": "python3"
  },
  "language_info": {
   "codemirror_mode": {
    "name": "ipython",
    "version": 3
   },
   "file_extension": ".py",
   "mimetype": "text/x-python",
   "name": "python",
   "nbconvert_exporter": "python",
   "pygments_lexer": "ipython3",
   "version": "3.9.12"
  }
 },
 "nbformat": 4,
 "nbformat_minor": 5
}
